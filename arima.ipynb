{
 "cells": [
  {
   "cell_type": "code",
   "execution_count": 1,
   "id": "940ab30f",
   "metadata": {
    "_cell_guid": "b1076dfc-b9ad-4769-8c92-a6c4dae69d19",
    "_uuid": "8f2839f25d086af736a60e9eeb907d3b93b6e0e5",
    "execution": {
     "iopub.execute_input": "2023-09-01T15:29:23.982233Z",
     "iopub.status.busy": "2023-09-01T15:29:23.981865Z",
     "iopub.status.idle": "2023-09-01T15:29:24.380999Z",
     "shell.execute_reply": "2023-09-01T15:29:24.379133Z"
    },
    "papermill": {
     "duration": 0.40939,
     "end_time": "2023-09-01T15:29:24.384270",
     "exception": false,
     "start_time": "2023-09-01T15:29:23.974880",
     "status": "completed"
    },
    "tags": []
   },
   "outputs": [
    {
     "name": "stdout",
     "output_type": "stream",
     "text": [
      "/kaggle/input/gdsc-aiml-member-recruitments/train.csv\n",
      "/kaggle/input/gdsc-aiml-member-recruitments/test.csv\n",
      "/kaggle/input/gdsc-aiml-member-recruitments/sample_solution.csv\n"
     ]
    }
   ],
   "source": [
    "# This Python 3 environment comes with many helpful analytics libraries installed\n",
    "# It is defined by the kaggle/python Docker image: https://github.com/kaggle/docker-python\n",
    "# For example, here's several helpful packages to load\n",
    "\n",
    "import numpy as np # linear algebra\n",
    "import pandas as pd # data processing, CSV file I/O (e.g. pd.read_csv)\n",
    "\n",
    "# Input data files are available in the read-only \"../input/\" directory\n",
    "# For example, running this (by clicking run or pressing Shift+Enter) will list all files under the input directory\n",
    "\n",
    "import os\n",
    "for dirname, _, filenames in os.walk('/kaggle/input'):\n",
    "    for filename in filenames:\n",
    "        print(os.path.join(dirname, filename))\n",
    "\n",
    "# You can write up to 20GB to the current directory (/kaggle/working/) that gets preserved as output when you create a version using \"Save & Run All\" \n",
    "# You can also write temporary files to /kaggle/temp/, but they won't be saved outside of the current session"
   ]
  },
  {
   "cell_type": "code",
   "execution_count": 2,
   "id": "8c65c5fd",
   "metadata": {
    "execution": {
     "iopub.execute_input": "2023-09-01T15:29:24.395383Z",
     "iopub.status.busy": "2023-09-01T15:29:24.394101Z",
     "iopub.status.idle": "2023-09-01T15:29:36.980329Z",
     "shell.execute_reply": "2023-09-01T15:29:36.979120Z"
    },
    "papermill": {
     "duration": 12.593509,
     "end_time": "2023-09-01T15:29:36.982267",
     "exception": false,
     "start_time": "2023-09-01T15:29:24.388758",
     "status": "completed"
    },
    "tags": []
   },
   "outputs": [
    {
     "name": "stdout",
     "output_type": "stream",
     "text": [
      "Collecting pmdarima\r\n",
      "  Downloading pmdarima-2.0.3-cp310-cp310-manylinux_2_17_x86_64.manylinux2014_x86_64.manylinux_2_28_x86_64.whl (1.8 MB)\r\n",
      "\u001b[2K     \u001b[90m━━━━━━━━━━━━━━━━━━━━━━━━━━━━━━━━━━━━━━━━\u001b[0m \u001b[32m1.8/1.8 MB\u001b[0m \u001b[31m16.8 MB/s\u001b[0m eta \u001b[36m0:00:00\u001b[0m\r\n",
      "\u001b[?25hRequirement already satisfied: joblib>=0.11 in /opt/conda/lib/python3.10/site-packages (from pmdarima) (1.3.2)\r\n",
      "Requirement already satisfied: Cython!=0.29.18,!=0.29.31,>=0.29 in /opt/conda/lib/python3.10/site-packages (from pmdarima) (0.29.35)\r\n",
      "Requirement already satisfied: numpy>=1.21.2 in /opt/conda/lib/python3.10/site-packages (from pmdarima) (1.23.5)\r\n",
      "Requirement already satisfied: pandas>=0.19 in /opt/conda/lib/python3.10/site-packages (from pmdarima) (2.0.3)\r\n",
      "Requirement already satisfied: scikit-learn>=0.22 in /opt/conda/lib/python3.10/site-packages (from pmdarima) (1.2.2)\r\n",
      "Requirement already satisfied: scipy>=1.3.2 in /opt/conda/lib/python3.10/site-packages (from pmdarima) (1.11.2)\r\n",
      "Requirement already satisfied: statsmodels>=0.13.2 in /opt/conda/lib/python3.10/site-packages (from pmdarima) (0.14.0)\r\n",
      "Requirement already satisfied: urllib3 in /opt/conda/lib/python3.10/site-packages (from pmdarima) (1.26.15)\r\n",
      "Requirement already satisfied: setuptools!=50.0.0,>=38.6.0 in /opt/conda/lib/python3.10/site-packages (from pmdarima) (68.0.0)\r\n",
      "Requirement already satisfied: python-dateutil>=2.8.2 in /opt/conda/lib/python3.10/site-packages (from pandas>=0.19->pmdarima) (2.8.2)\r\n",
      "Requirement already satisfied: pytz>=2020.1 in /opt/conda/lib/python3.10/site-packages (from pandas>=0.19->pmdarima) (2023.3)\r\n",
      "Requirement already satisfied: tzdata>=2022.1 in /opt/conda/lib/python3.10/site-packages (from pandas>=0.19->pmdarima) (2023.3)\r\n",
      "Requirement already satisfied: threadpoolctl>=2.0.0 in /opt/conda/lib/python3.10/site-packages (from scikit-learn>=0.22->pmdarima) (3.1.0)\r\n",
      "Requirement already satisfied: patsy>=0.5.2 in /opt/conda/lib/python3.10/site-packages (from statsmodels>=0.13.2->pmdarima) (0.5.3)\r\n",
      "Requirement already satisfied: packaging>=21.3 in /opt/conda/lib/python3.10/site-packages (from statsmodels>=0.13.2->pmdarima) (21.3)\r\n",
      "Requirement already satisfied: pyparsing!=3.0.5,>=2.0.2 in /opt/conda/lib/python3.10/site-packages (from packaging>=21.3->statsmodels>=0.13.2->pmdarima) (3.0.9)\r\n",
      "Requirement already satisfied: six in /opt/conda/lib/python3.10/site-packages (from patsy>=0.5.2->statsmodels>=0.13.2->pmdarima) (1.16.0)\r\n",
      "Installing collected packages: pmdarima\r\n",
      "Successfully installed pmdarima-2.0.3\r\n",
      "Note: you may need to restart the kernel to use updated packages.\n"
     ]
    }
   ],
   "source": [
    "pip install pmdarima"
   ]
  },
  {
   "cell_type": "code",
   "execution_count": 3,
   "id": "ad87bdc4",
   "metadata": {
    "execution": {
     "iopub.execute_input": "2023-09-01T15:29:36.993924Z",
     "iopub.status.busy": "2023-09-01T15:29:36.993465Z",
     "iopub.status.idle": "2023-09-01T15:29:40.897801Z",
     "shell.execute_reply": "2023-09-01T15:29:40.896542Z"
    },
    "papermill": {
     "duration": 3.91338,
     "end_time": "2023-09-01T15:29:40.900277",
     "exception": false,
     "start_time": "2023-09-01T15:29:36.986897",
     "status": "completed"
    },
    "tags": []
   },
   "outputs": [],
   "source": [
    "import pandas as pd\n",
    "import numpy as np\n",
    "from statsmodels.tsa.statespace.sarimax import SARIMAX\n",
    "from pmdarima.arima import auto_arima\n",
    "from sklearn.metrics import mean_squared_error\n",
    "from sklearn.impute import SimpleImputer"
   ]
  },
  {
   "cell_type": "markdown",
   "id": "0ddabeca",
   "metadata": {
    "papermill": {
     "duration": 0.004345,
     "end_time": "2023-09-01T15:29:40.909489",
     "exception": false,
     "start_time": "2023-09-01T15:29:40.905144",
     "status": "completed"
    },
    "tags": []
   },
   "source": [
    "Loading the Data: Import the necessary libraries and load the training and test datasets into Pandas DataFrames. Data loading is the initial step in any data analysis or modeling task.\n",
    "\n",
    "Extracting the Target Variable: Extract the target variable ('VACATION_RATE') from the training data. This variable is what the model aims to predict."
   ]
  },
  {
   "cell_type": "code",
   "execution_count": 4,
   "id": "de998b2b",
   "metadata": {
    "execution": {
     "iopub.execute_input": "2023-09-01T15:29:40.920764Z",
     "iopub.status.busy": "2023-09-01T15:29:40.920272Z",
     "iopub.status.idle": "2023-09-01T15:29:40.967475Z",
     "shell.execute_reply": "2023-09-01T15:29:40.965875Z"
    },
    "papermill": {
     "duration": 0.056629,
     "end_time": "2023-09-01T15:29:40.970615",
     "exception": false,
     "start_time": "2023-09-01T15:29:40.913986",
     "status": "completed"
    },
    "tags": []
   },
   "outputs": [],
   "source": [
    "# Load data\n",
    "train_data = pd.read_csv('/kaggle/input/gdsc-aiml-member-recruitments/train.csv')\n",
    "test_data = pd.read_csv('/kaggle/input/gdsc-aiml-member-recruitments/test.csv')\n",
    "\n",
    "# Extract the target variable\n",
    "y = train_data['VACATION_RATE']"
   ]
  },
  {
   "cell_type": "markdown",
   "id": "b6d33f5c",
   "metadata": {
    "papermill": {
     "duration": 0.004164,
     "end_time": "2023-09-01T15:29:40.979500",
     "exception": false,
     "start_time": "2023-09-01T15:29:40.975336",
     "status": "completed"
    },
    "tags": []
   },
   "source": [
    "Making Predictions: Use the trained ARIMA model to make predictions on the test data. The model forecasts future values of the target variable based on historical information."
   ]
  },
  {
   "cell_type": "code",
   "execution_count": 5,
   "id": "f96409f1",
   "metadata": {
    "execution": {
     "iopub.execute_input": "2023-09-01T15:29:40.990636Z",
     "iopub.status.busy": "2023-09-01T15:29:40.990103Z",
     "iopub.status.idle": "2023-09-01T15:29:47.334772Z",
     "shell.execute_reply": "2023-09-01T15:29:47.333945Z"
    },
    "papermill": {
     "duration": 6.353295,
     "end_time": "2023-09-01T15:29:47.337158",
     "exception": false,
     "start_time": "2023-09-01T15:29:40.983863",
     "status": "completed"
    },
    "tags": []
   },
   "outputs": [
    {
     "name": "stdout",
     "output_type": "stream",
     "text": [
      "                               SARIMAX Results                                \n",
      "==============================================================================\n",
      "Dep. Variable:                      y   No. Observations:                 1439\n",
      "Model:               SARIMAX(1, 0, 2)   Log Likelihood               -6430.335\n",
      "Date:                Fri, 01 Sep 2023   AIC                          12870.669\n",
      "Time:                        15:29:46   BIC                          12897.028\n",
      "Sample:                             0   HQIC                         12880.509\n",
      "                               - 1439                                         \n",
      "Covariance Type:                  opg                                         \n",
      "==============================================================================\n",
      "                 coef    std err          z      P>|z|      [0.025      0.975]\n",
      "------------------------------------------------------------------------------\n",
      "intercept      5.2510      1.114      4.713      0.000       3.067       7.434\n",
      "ar.L1          0.7662      0.036     21.498      0.000       0.696       0.836\n",
      "ma.L1         -0.1798      0.041     -4.395      0.000      -0.260      -0.100\n",
      "ma.L2         -0.1147      0.032     -3.616      0.000      -0.177      -0.053\n",
      "sigma2       445.4062     11.540     38.598      0.000     422.789     468.023\n",
      "===================================================================================\n",
      "Ljung-Box (L1) (Q):                   0.00   Jarque-Bera (JB):              1581.07\n",
      "Prob(Q):                              0.99   Prob(JB):                         0.00\n",
      "Heteroskedasticity (H):               1.12   Skew:                             1.35\n",
      "Prob(H) (two-sided):                  0.23   Kurtosis:                         7.37\n",
      "===================================================================================\n",
      "\n",
      "Warnings:\n",
      "[1] Covariance matrix calculated using the outer product of gradients (complex-step).\n"
     ]
    }
   ],
   "source": [
    "# Import the necessary libraries\n",
    "from pmdarima import auto_arima\n",
    "import numpy as np\n",
    "\n",
    "# Fit an ARIMA model using auto_arima\n",
    "model = auto_arima(y, seasonal=True, stepwise=True, maxiter=2000)\n",
    "\n",
    "# Print the model summary\n",
    "print(model.summary())\n",
    "\n",
    "# Fit the model to the training data\n",
    "model_fit = model.fit(y=y, disp=False)\n",
    "\n",
    "# Get the predicted values\n",
    "n_periods = len(test_data)\n",
    "predicted_values, conf_int = model_fit.predict(\n",
    "    n_periods=n_periods, start=len(train_data), end=len(train_data)+n_periods, return_conf_int=True\n",
    ")"
   ]
  },
  {
   "cell_type": "code",
   "execution_count": 6,
   "id": "8cd0518d",
   "metadata": {
    "execution": {
     "iopub.execute_input": "2023-09-01T15:29:47.351305Z",
     "iopub.status.busy": "2023-09-01T15:29:47.350705Z",
     "iopub.status.idle": "2023-09-01T15:29:47.363977Z",
     "shell.execute_reply": "2023-09-01T15:29:47.363208Z"
    },
    "papermill": {
     "duration": 0.022781,
     "end_time": "2023-09-01T15:29:47.366064",
     "exception": false,
     "start_time": "2023-09-01T15:29:47.343283",
     "status": "completed"
    },
    "tags": []
   },
   "outputs": [
    {
     "data": {
      "text/plain": [
       "array([14.6075703 , 16.37610861, 17.7984349 , 18.88823018, 19.72323812,\n",
       "       20.36302641, 20.8532362 , 21.22883799, 21.51662643, 21.73713172,\n",
       "       21.90608425, 22.03553674, 22.13472404, 22.21072197, 22.26895206,\n",
       "       22.31356831, 22.34775357, 22.37394652, 22.39401573, 22.40939288,\n",
       "       22.42117495, 22.43020244, 22.43711936, 22.44241915, 22.44647988,\n",
       "       22.44959124, 22.45197518, 22.45380178, 22.45520132, 22.45627366,\n",
       "       22.4570953 , 22.45772484, 22.45820719, 22.45857678, 22.45885996,\n",
       "       22.45907693, 22.45924318, 22.45937056, 22.45946816, 22.45954294,\n",
       "       22.45960024, 22.45964414, 22.45967777, 22.45970355, 22.4597233 ,\n",
       "       22.45973843, 22.45975002, 22.4597589 , 22.45976571, 22.45977092,\n",
       "       22.45977492, 22.45977798, 22.45978033, 22.45978212, 22.4597835 ,\n",
       "       22.45978456, 22.45978537, 22.45978598, 22.45978646, 22.45978682,\n",
       "       22.4597871 , 22.45978732, 22.45978748, 22.4597876 , 22.4597877 ,\n",
       "       22.45978777, 22.45978783, 22.45978787, 22.45978791, 22.45978793,\n",
       "       22.45978795, 22.45978797, 22.45978798, 22.45978799, 22.45978799,\n",
       "       22.459788  , 22.459788  , 22.45978801, 22.45978801, 22.45978801,\n",
       "       22.45978801, 22.45978801, 22.45978801, 22.45978801, 22.45978801,\n",
       "       22.45978801, 22.45978801, 22.45978801, 22.45978801, 22.45978801,\n",
       "       22.45978801, 22.45978801, 22.45978801, 22.45978801, 22.45978801,\n",
       "       22.45978801, 22.45978801, 22.45978801, 22.45978801, 22.45978801,\n",
       "       22.45978801, 22.45978801, 22.45978802, 22.45978802, 22.45978802,\n",
       "       22.45978802, 22.45978802, 22.45978802, 22.45978802, 22.45978802,\n",
       "       22.45978802, 22.45978802, 22.45978802, 22.45978802, 22.45978802,\n",
       "       22.45978802, 22.45978802, 22.45978802, 22.45978802, 22.45978802,\n",
       "       22.45978802, 22.45978802, 22.45978802, 22.45978802, 22.45978802,\n",
       "       22.45978802, 22.45978802, 22.45978802, 22.45978802, 22.45978802,\n",
       "       22.45978802, 22.45978802, 22.45978802, 22.45978802, 22.45978802,\n",
       "       22.45978802, 22.45978802, 22.45978802, 22.45978802, 22.45978802,\n",
       "       22.45978802, 22.45978802, 22.45978802, 22.45978802, 22.45978802,\n",
       "       22.45978802, 22.45978802, 22.45978802, 22.45978802, 22.45978802,\n",
       "       22.45978802, 22.45978802, 22.45978802, 22.45978802, 22.45978802,\n",
       "       22.45978802, 22.45978802, 22.45978802, 22.45978802, 22.45978802,\n",
       "       22.45978802, 22.45978802, 22.45978802, 22.45978802, 22.45978802,\n",
       "       22.45978802, 22.45978802, 22.45978802, 22.45978802, 22.45978802,\n",
       "       22.45978802, 22.45978802, 22.45978802, 22.45978802, 22.45978802,\n",
       "       22.45978802, 22.45978802, 22.45978802, 22.45978802, 22.45978802,\n",
       "       22.45978802, 22.45978802, 22.45978802, 22.45978802, 22.45978802,\n",
       "       22.45978802, 22.45978802, 22.45978802, 22.45978802, 22.45978802,\n",
       "       22.45978802, 22.45978802, 22.45978802, 22.45978802, 22.45978802,\n",
       "       22.45978802, 22.45978802, 22.45978802, 22.45978802, 22.45978802,\n",
       "       22.45978802, 22.45978802, 22.45978802, 22.45978802, 22.45978802,\n",
       "       22.45978802, 22.45978802, 22.45978802, 22.45978802, 22.45978802,\n",
       "       22.45978802, 22.45978802, 22.45978802, 22.45978802, 22.45978802,\n",
       "       22.45978802, 22.45978802, 22.45978802, 22.45978802, 22.45978802,\n",
       "       22.45978802, 22.45978802, 22.45978802, 22.45978802, 22.45978802,\n",
       "       22.45978802, 22.45978802, 22.45978802, 22.45978802, 22.45978802,\n",
       "       22.45978802, 22.45978802, 22.45978802, 22.45978802, 22.45978802,\n",
       "       22.45978802, 22.45978802, 22.45978802, 22.45978802, 22.45978802,\n",
       "       22.45978802, 22.45978802, 22.45978802, 22.45978802, 22.45978802,\n",
       "       22.45978802, 22.45978802, 22.45978802, 22.45978802, 22.45978802,\n",
       "       22.45978802, 22.45978802, 22.45978802, 22.45978802, 22.45978802,\n",
       "       22.45978802, 22.45978802, 22.45978802, 22.45978802, 22.45978802,\n",
       "       22.45978802, 22.45978802, 22.45978802, 22.45978802, 22.45978802,\n",
       "       22.45978802, 22.45978802, 22.45978802, 22.45978802, 22.45978802,\n",
       "       22.45978802, 22.45978802, 22.45978802, 22.45978802, 22.45978802,\n",
       "       22.45978802, 22.45978802, 22.45978802, 22.45978802, 22.45978802,\n",
       "       22.45978802, 22.45978802, 22.45978802, 22.45978802, 22.45978802,\n",
       "       22.45978802, 22.45978802, 22.45978802, 22.45978802, 22.45978802,\n",
       "       22.45978802, 22.45978802, 22.45978802, 22.45978802, 22.45978802,\n",
       "       22.45978802, 22.45978802, 22.45978802, 22.45978802, 22.45978802,\n",
       "       22.45978802, 22.45978802, 22.45978802, 22.45978802, 22.45978802,\n",
       "       22.45978802, 22.45978802, 22.45978802, 22.45978802, 22.45978802,\n",
       "       22.45978802, 22.45978802, 22.45978802, 22.45978802, 22.45978802,\n",
       "       22.45978802, 22.45978802, 22.45978802, 22.45978802, 22.45978802,\n",
       "       22.45978802, 22.45978802, 22.45978802, 22.45978802, 22.45978802,\n",
       "       22.45978802, 22.45978802, 22.45978802, 22.45978802, 22.45978802,\n",
       "       22.45978802, 22.45978802, 22.45978802, 22.45978802, 22.45978802,\n",
       "       22.45978802, 22.45978802, 22.45978802, 22.45978802, 22.45978802,\n",
       "       22.45978802, 22.45978802, 22.45978802, 22.45978802, 22.45978802,\n",
       "       22.45978802, 22.45978802, 22.45978802, 22.45978802, 22.45978802,\n",
       "       22.45978802, 22.45978802, 22.45978802, 22.45978802, 22.45978802,\n",
       "       22.45978802, 22.45978802, 22.45978802, 22.45978802, 22.45978802,\n",
       "       22.45978802, 22.45978802, 22.45978802, 22.45978802, 22.45978802,\n",
       "       22.45978802, 22.45978802, 22.45978802, 22.45978802, 22.45978802,\n",
       "       22.45978802, 22.45978802, 22.45978802, 22.45978802, 22.45978802,\n",
       "       22.45978802, 22.45978802, 22.45978802, 22.45978802, 22.45978802,\n",
       "       22.45978802, 22.45978802, 22.45978802, 22.45978802, 22.45978802,\n",
       "       22.45978802, 22.45978802, 22.45978802, 22.45978802, 22.45978802,\n",
       "       22.45978802, 22.45978802, 22.45978802, 22.45978802, 22.45978802,\n",
       "       22.45978802, 22.45978802, 22.45978802, 22.45978802, 22.45978802,\n",
       "       22.45978802, 22.45978802, 22.45978802, 22.45978802, 22.45978802,\n",
       "       22.45978802, 22.45978802, 22.45978802, 22.45978802, 22.45978802,\n",
       "       22.45978802, 22.45978802, 22.45978802, 22.45978802, 22.45978802,\n",
       "       22.45978802, 22.45978802, 22.45978802, 22.45978802, 22.45978802,\n",
       "       22.45978802, 22.45978802, 22.45978802, 22.45978802, 22.45978802,\n",
       "       22.45978802, 22.45978802, 22.45978802, 22.45978802, 22.45978802,\n",
       "       22.45978802, 22.45978802, 22.45978802, 22.45978802, 22.45978802,\n",
       "       22.45978802, 22.45978802, 22.45978802, 22.45978802, 22.45978802,\n",
       "       22.45978802, 22.45978802, 22.45978802, 22.45978802, 22.45978802,\n",
       "       22.45978802, 22.45978802, 22.45978802, 22.45978802, 22.45978802,\n",
       "       22.45978802, 22.45978802, 22.45978802, 22.45978802, 22.45978802,\n",
       "       22.45978802, 22.45978802, 22.45978802, 22.45978802, 22.45978802,\n",
       "       22.45978802, 22.45978802, 22.45978802, 22.45978802, 22.45978802,\n",
       "       22.45978802, 22.45978802, 22.45978802, 22.45978802, 22.45978802,\n",
       "       22.45978802, 22.45978802, 22.45978802, 22.45978802, 22.45978802,\n",
       "       22.45978802, 22.45978802, 22.45978802, 22.45978802, 22.45978802,\n",
       "       22.45978802, 22.45978802, 22.45978802, 22.45978802, 22.45978802,\n",
       "       22.45978802, 22.45978802, 22.45978802, 22.45978802, 22.45978802,\n",
       "       22.45978802, 22.45978802, 22.45978802, 22.45978802, 22.45978802,\n",
       "       22.45978802, 22.45978802, 22.45978802, 22.45978802, 22.45978802,\n",
       "       22.45978802, 22.45978802, 22.45978802, 22.45978802, 22.45978802,\n",
       "       22.45978802, 22.45978802, 22.45978802, 22.45978802, 22.45978802,\n",
       "       22.45978802, 22.45978802, 22.45978802, 22.45978802, 22.45978802,\n",
       "       22.45978802, 22.45978802, 22.45978802, 22.45978802, 22.45978802,\n",
       "       22.45978802, 22.45978802, 22.45978802, 22.45978802, 22.45978802,\n",
       "       22.45978802, 22.45978802, 22.45978802, 22.45978802, 22.45978802,\n",
       "       22.45978802, 22.45978802, 22.45978802, 22.45978802, 22.45978802,\n",
       "       22.45978802, 22.45978802, 22.45978802, 22.45978802, 22.45978802,\n",
       "       22.45978802, 22.45978802, 22.45978802, 22.45978802, 22.45978802,\n",
       "       22.45978802, 22.45978802, 22.45978802, 22.45978802, 22.45978802,\n",
       "       22.45978802, 22.45978802, 22.45978802, 22.45978802, 22.45978802,\n",
       "       22.45978802, 22.45978802, 22.45978802, 22.45978802, 22.45978802,\n",
       "       22.45978802, 22.45978802, 22.45978802, 22.45978802, 22.45978802,\n",
       "       22.45978802, 22.45978802, 22.45978802, 22.45978802, 22.45978802,\n",
       "       22.45978802, 22.45978802, 22.45978802, 22.45978802, 22.45978802,\n",
       "       22.45978802, 22.45978802, 22.45978802, 22.45978802, 22.45978802,\n",
       "       22.45978802, 22.45978802, 22.45978802, 22.45978802, 22.45978802,\n",
       "       22.45978802, 22.45978802, 22.45978802, 22.45978802, 22.45978802,\n",
       "       22.45978802, 22.45978802, 22.45978802, 22.45978802, 22.45978802,\n",
       "       22.45978802, 22.45978802, 22.45978802, 22.45978802, 22.45978802,\n",
       "       22.45978802, 22.45978802, 22.45978802, 22.45978802, 22.45978802,\n",
       "       22.45978802, 22.45978802, 22.45978802, 22.45978802, 22.45978802,\n",
       "       22.45978802, 22.45978802, 22.45978802, 22.45978802, 22.45978802,\n",
       "       22.45978802, 22.45978802, 22.45978802, 22.45978802, 22.45978802,\n",
       "       22.45978802, 22.45978802, 22.45978802, 22.45978802, 22.45978802,\n",
       "       22.45978802, 22.45978802, 22.45978802, 22.45978802, 22.45978802,\n",
       "       22.45978802, 22.45978802, 22.45978802, 22.45978802, 22.45978802,\n",
       "       22.45978802, 22.45978802, 22.45978802, 22.45978802, 22.45978802,\n",
       "       22.45978802, 22.45978802, 22.45978802, 22.45978802, 22.45978802,\n",
       "       22.45978802, 22.45978802, 22.45978802, 22.45978802, 22.45978802,\n",
       "       22.45978802, 22.45978802, 22.45978802, 22.45978802, 22.45978802,\n",
       "       22.45978802, 22.45978802, 22.45978802, 22.45978802, 22.45978802,\n",
       "       22.45978802, 22.45978802, 22.45978802, 22.45978802, 22.45978802,\n",
       "       22.45978802, 22.45978802, 22.45978802, 22.45978802, 22.45978802,\n",
       "       22.45978802, 22.45978802, 22.45978802, 22.45978802, 22.45978802,\n",
       "       22.45978802, 22.45978802, 22.45978802, 22.45978802, 22.45978802,\n",
       "       22.45978802, 22.45978802, 22.45978802, 22.45978802, 22.45978802,\n",
       "       22.45978802, 22.45978802, 22.45978802, 22.45978802, 22.45978802,\n",
       "       22.45978802, 22.45978802, 22.45978802, 22.45978802, 22.45978802,\n",
       "       22.45978802, 22.45978802, 22.45978802, 22.45978802, 22.45978802])"
      ]
     },
     "execution_count": 6,
     "metadata": {},
     "output_type": "execute_result"
    }
   ],
   "source": [
    "predicted_values.values"
   ]
  },
  {
   "cell_type": "markdown",
   "id": "7d8f8cfa",
   "metadata": {
    "papermill": {
     "duration": 0.006172,
     "end_time": "2023-09-01T15:29:47.378465",
     "exception": false,
     "start_time": "2023-09-01T15:29:47.372293",
     "status": "completed"
    },
    "tags": []
   },
   "source": [
    "Saving Predictions: Save the predictions made by the ARIMA model to a DataFrame or a CSV file. These predictions can be used for further analysis or submission."
   ]
  },
  {
   "cell_type": "code",
   "execution_count": 7,
   "id": "ff223c6b",
   "metadata": {
    "execution": {
     "iopub.execute_input": "2023-09-01T15:29:47.393162Z",
     "iopub.status.busy": "2023-09-01T15:29:47.392574Z",
     "iopub.status.idle": "2023-09-01T15:29:47.402707Z",
     "shell.execute_reply": "2023-09-01T15:29:47.401931Z"
    },
    "papermill": {
     "duration": 0.02013,
     "end_time": "2023-09-01T15:29:47.404907",
     "exception": false,
     "start_time": "2023-09-01T15:29:47.384777",
     "status": "completed"
    },
    "tags": []
   },
   "outputs": [],
   "source": [
    "# Save the predictions to a CSV file\n",
    "test_predictions_df = pd.DataFrame({'ID': test_data['ID'], 'VACATION_RATE': predicted_values.values})\n",
    "test_predictions_df.to_csv('submission.csv', index=False)"
   ]
  }
 ],
 "kernelspec": {
  "display_name": "Python 3",
  "language": "python",
  "name": "python3"
 },
 "language_info": {
  "codemirror_mode": {
   "name": "ipython",
   "version": 3
  },
  "file_extension": ".py",
  "mimetype": "text/x-python",
  "name": "python",
  "nbconvert_exporter": "python",
  "pygments_lexer": "ipython3",
  "version": "3.6.4"
 },
 "metadata": {
  "kernelspec": {
   "display_name": "Python 3",
   "language": "python",
   "name": "python3"
  },
  "language_info": {
   "codemirror_mode": {
    "name": "ipython",
    "version": 3
   },
   "file_extension": ".py",
   "mimetype": "text/x-python",
   "name": "python",
   "nbconvert_exporter": "python",
   "pygments_lexer": "ipython3",
   "version": "3.10.12"
  },
  "papermill": {
   "default_parameters": {},
   "duration": 27.534494,
   "end_time": "2023-09-01T15:29:48.333825",
   "environment_variables": {},
   "exception": null,
   "input_path": "__notebook__.ipynb",
   "output_path": "__notebook__.ipynb",
   "parameters": {},
   "start_time": "2023-09-01T15:29:20.799331",
   "version": "2.4.0"
  }
 },
 "nbformat": 4,
 "nbformat_minor": 5
}

{
 "cells": [
  {
   "cell_type": "code",
   "execution_count": 1,
   "id": "40eb08d2",
   "metadata": {
    "_cell_guid": "b1076dfc-b9ad-4769-8c92-a6c4dae69d19",
    "_uuid": "8f2839f25d086af736a60e9eeb907d3b93b6e0e5",
    "execution": {
     "iopub.execute_input": "2023-09-01T14:00:15.015714Z",
     "iopub.status.busy": "2023-09-01T14:00:15.015295Z",
     "iopub.status.idle": "2023-09-01T14:00:15.030534Z",
     "shell.execute_reply": "2023-09-01T14:00:15.029252Z"
    },
    "papermill": {
     "duration": 0.029186,
     "end_time": "2023-09-01T14:00:15.032835",
     "exception": false,
     "start_time": "2023-09-01T14:00:15.003649",
     "status": "completed"
    },
    "tags": []
   },
   "outputs": [
    {
     "name": "stdout",
     "output_type": "stream",
     "text": [
      "/kaggle/input/gdsc-aiml-member-recruitments/train.csv\n",
      "/kaggle/input/gdsc-aiml-member-recruitments/test.csv\n",
      "/kaggle/input/gdsc-aiml-member-recruitments/sample_solution.csv\n"
     ]
    }
   ],
   "source": [
    "# This Python 3 environment comes with many helpful analytics libraries installed\n",
    "# It is defined by the kaggle/python Docker image: https://github.com/kaggle/docker-python\n",
    "# For example, here's several helpful packages to load\n",
    "\n",
    "import numpy as np # linear algebra\n",
    "import pandas as pd # data processing, CSV file I/O (e.g. pd.read_csv)\n",
    "\n",
    "# Input data files are available in the read-only \"../input/\" directory\n",
    "# For example, running this (by clicking run or pressing Shift+Enter) will list all files under the input directory\n",
    "\n",
    "import os\n",
    "for dirname, _, filenames in os.walk('/kaggle/input'):\n",
    "    for filename in filenames:\n",
    "        print(os.path.join(dirname, filename))\n",
    "\n",
    "# You can write up to 20GB to the current directory (/kaggle/working/) that gets preserved as output when you create a version using \"Save & Run All\" \n",
    "# You can also write temporary files to /kaggle/temp/, but they won't be saved outside of the current session"
   ]
  },
  {
   "cell_type": "code",
   "execution_count": 2,
   "id": "de3b8a3b",
   "metadata": {
    "execution": {
     "iopub.execute_input": "2023-09-01T14:00:15.049725Z",
     "iopub.status.busy": "2023-09-01T14:00:15.049337Z",
     "iopub.status.idle": "2023-09-01T14:00:17.056255Z",
     "shell.execute_reply": "2023-09-01T14:00:17.055290Z"
    },
    "papermill": {
     "duration": 2.018771,
     "end_time": "2023-09-01T14:00:17.059209",
     "exception": false,
     "start_time": "2023-09-01T14:00:15.040438",
     "status": "completed"
    },
    "tags": []
   },
   "outputs": [
    {
     "name": "stderr",
     "output_type": "stream",
     "text": [
      "/opt/conda/lib/python3.10/site-packages/scipy/__init__.py:146: UserWarning: A NumPy version >=1.16.5 and <1.23.0 is required for this version of SciPy (detected version 1.23.5\n",
      "  warnings.warn(f\"A NumPy version >={np_minversion} and <{np_maxversion}\"\n"
     ]
    }
   ],
   "source": [
    "import pandas as pd\n",
    "from sklearn.impute import SimpleImputer\n",
    "from sklearn.ensemble import RandomForestRegressor\n",
    "from sklearn.metrics import mean_squared_error\n",
    "from sklearn.model_selection import train_test_split"
   ]
  },
  {
   "cell_type": "markdown",
   "id": "49cd963d",
   "metadata": {
    "papermill": {
     "duration": 0.00713,
     "end_time": "2023-09-01T14:00:17.074090",
     "exception": false,
     "start_time": "2023-09-01T14:00:17.066960",
     "status": "completed"
    },
    "tags": []
   },
   "source": [
    "**Data Loading:**\n",
    "\n",
    "Loading the training and test data from CSV files into Pandas DataFrames."
   ]
  },
  {
   "cell_type": "code",
   "execution_count": 3,
   "id": "1431d2c2",
   "metadata": {
    "execution": {
     "iopub.execute_input": "2023-09-01T14:00:17.091128Z",
     "iopub.status.busy": "2023-09-01T14:00:17.090221Z",
     "iopub.status.idle": "2023-09-01T14:00:17.133471Z",
     "shell.execute_reply": "2023-09-01T14:00:17.132234Z"
    },
    "papermill": {
     "duration": 0.054616,
     "end_time": "2023-09-01T14:00:17.136021",
     "exception": false,
     "start_time": "2023-09-01T14:00:17.081405",
     "status": "completed"
    },
    "tags": []
   },
   "outputs": [],
   "source": [
    "# Load the training and test data\n",
    "train_data = pd.read_csv('/kaggle/input/gdsc-aiml-member-recruitments/train.csv')\n",
    "test_data = pd.read_csv('/kaggle/input/gdsc-aiml-member-recruitments/test.csv')"
   ]
  },
  {
   "cell_type": "markdown",
   "id": "d38eecac",
   "metadata": {
    "papermill": {
     "duration": 0.007063,
     "end_time": "2023-09-01T14:00:17.150632",
     "exception": false,
     "start_time": "2023-09-01T14:00:17.143569",
     "status": "completed"
    },
    "tags": []
   },
   "source": [
    "**Handling Missing Values:**\n",
    "\n",
    "Handling missing values by imputing them with the mean value for specific columns in both the training and test datasets."
   ]
  },
  {
   "cell_type": "code",
   "execution_count": 4,
   "id": "60ccd7d7",
   "metadata": {
    "execution": {
     "iopub.execute_input": "2023-09-01T14:00:17.167591Z",
     "iopub.status.busy": "2023-09-01T14:00:17.166851Z",
     "iopub.status.idle": "2023-09-01T14:00:17.200991Z",
     "shell.execute_reply": "2023-09-01T14:00:17.199217Z"
    },
    "papermill": {
     "duration": 0.045989,
     "end_time": "2023-09-01T14:00:17.203919",
     "exception": false,
     "start_time": "2023-09-01T14:00:17.157930",
     "status": "completed"
    },
    "tags": []
   },
   "outputs": [],
   "source": [
    "# Handle missing values\n",
    "imputer_train = SimpleImputer(strategy='mean')\n",
    "imputer_test = SimpleImputer(strategy='mean')\n",
    "\n",
    "# Get the columns for imputation\n",
    "impute_cols_train = ['T2M_RANGE', 'T2M_MAX', 'T2M_MIN', 'RH2M', 'PS', 'WS10M']\n",
    "impute_cols_test = ['T2M_RANGE', 'T2M_MAX', 'T2M_MIN', 'RH2M', 'PS', 'WS10M']\n",
    "\n",
    "# Impute missing values for train and test data\n",
    "train_data[impute_cols_train] = imputer_train.fit_transform(train_data[impute_cols_train])\n",
    "test_data[impute_cols_test] = imputer_test.fit_transform(test_data[impute_cols_test])"
   ]
  },
  {
   "cell_type": "markdown",
   "id": "bb21ce4f",
   "metadata": {
    "papermill": {
     "duration": 0.007155,
     "end_time": "2023-09-01T14:00:17.219038",
     "exception": false,
     "start_time": "2023-09-01T14:00:17.211883",
     "status": "completed"
    },
    "tags": []
   },
   "source": [
    "**Data Splitting:**\n",
    "\n",
    "Separating the features (X) from the target variable (y) in the training data. It also splits the data into training and validation sets."
   ]
  },
  {
   "cell_type": "code",
   "execution_count": 5,
   "id": "baf55b55",
   "metadata": {
    "execution": {
     "iopub.execute_input": "2023-09-01T14:00:17.235631Z",
     "iopub.status.busy": "2023-09-01T14:00:17.235194Z",
     "iopub.status.idle": "2023-09-01T14:00:17.245864Z",
     "shell.execute_reply": "2023-09-01T14:00:17.244574Z"
    },
    "papermill": {
     "duration": 0.021901,
     "end_time": "2023-09-01T14:00:17.248309",
     "exception": false,
     "start_time": "2023-09-01T14:00:17.226408",
     "status": "completed"
    },
    "tags": []
   },
   "outputs": [],
   "source": [
    "# Splitting into features (X) and target (y)\n",
    "X = train_data.drop(columns=['ID', 'YEAR', 'VACATION_RATE', 'QV2M', 'T2M'])\n",
    "y = train_data['VACATION_RATE']\n",
    "\n",
    "# Splitting into training and validation sets\n",
    "X_train, X_val, y_train, y_val = train_test_split(X, y, test_size=0.2, random_state=42)"
   ]
  },
  {
   "cell_type": "markdown",
   "id": "57e4a1b7",
   "metadata": {
    "papermill": {
     "duration": 0.007566,
     "end_time": "2023-09-01T14:00:17.263626",
     "exception": false,
     "start_time": "2023-09-01T14:00:17.256060",
     "status": "completed"
    },
    "tags": []
   },
   "source": [
    "**Model Initialization and Training:**\n",
    "\n",
    "Initializing a Random Forest Regressor model and trains it on the training data.\n",
    "\n",
    "The Random Forest Regressor is chosen as it's an ensemble method suitable for regression tasks and capable of capturing complex relationships in the data."
   ]
  },
  {
   "cell_type": "code",
   "execution_count": 6,
   "id": "78c7fac0",
   "metadata": {
    "execution": {
     "iopub.execute_input": "2023-09-01T14:00:17.282036Z",
     "iopub.status.busy": "2023-09-01T14:00:17.281604Z",
     "iopub.status.idle": "2023-09-01T14:00:18.070898Z",
     "shell.execute_reply": "2023-09-01T14:00:18.069749Z"
    },
    "papermill": {
     "duration": 0.801648,
     "end_time": "2023-09-01T14:00:18.073437",
     "exception": false,
     "start_time": "2023-09-01T14:00:17.271789",
     "status": "completed"
    },
    "tags": []
   },
   "outputs": [
    {
     "data": {
      "text/html": [
       "<style>#sk-container-id-1 {color: black;background-color: white;}#sk-container-id-1 pre{padding: 0;}#sk-container-id-1 div.sk-toggleable {background-color: white;}#sk-container-id-1 label.sk-toggleable__label {cursor: pointer;display: block;width: 100%;margin-bottom: 0;padding: 0.3em;box-sizing: border-box;text-align: center;}#sk-container-id-1 label.sk-toggleable__label-arrow:before {content: \"▸\";float: left;margin-right: 0.25em;color: #696969;}#sk-container-id-1 label.sk-toggleable__label-arrow:hover:before {color: black;}#sk-container-id-1 div.sk-estimator:hover label.sk-toggleable__label-arrow:before {color: black;}#sk-container-id-1 div.sk-toggleable__content {max-height: 0;max-width: 0;overflow: hidden;text-align: left;background-color: #f0f8ff;}#sk-container-id-1 div.sk-toggleable__content pre {margin: 0.2em;color: black;border-radius: 0.25em;background-color: #f0f8ff;}#sk-container-id-1 input.sk-toggleable__control:checked~div.sk-toggleable__content {max-height: 200px;max-width: 100%;overflow: auto;}#sk-container-id-1 input.sk-toggleable__control:checked~label.sk-toggleable__label-arrow:before {content: \"▾\";}#sk-container-id-1 div.sk-estimator input.sk-toggleable__control:checked~label.sk-toggleable__label {background-color: #d4ebff;}#sk-container-id-1 div.sk-label input.sk-toggleable__control:checked~label.sk-toggleable__label {background-color: #d4ebff;}#sk-container-id-1 input.sk-hidden--visually {border: 0;clip: rect(1px 1px 1px 1px);clip: rect(1px, 1px, 1px, 1px);height: 1px;margin: -1px;overflow: hidden;padding: 0;position: absolute;width: 1px;}#sk-container-id-1 div.sk-estimator {font-family: monospace;background-color: #f0f8ff;border: 1px dotted black;border-radius: 0.25em;box-sizing: border-box;margin-bottom: 0.5em;}#sk-container-id-1 div.sk-estimator:hover {background-color: #d4ebff;}#sk-container-id-1 div.sk-parallel-item::after {content: \"\";width: 100%;border-bottom: 1px solid gray;flex-grow: 1;}#sk-container-id-1 div.sk-label:hover label.sk-toggleable__label {background-color: #d4ebff;}#sk-container-id-1 div.sk-serial::before {content: \"\";position: absolute;border-left: 1px solid gray;box-sizing: border-box;top: 0;bottom: 0;left: 50%;z-index: 0;}#sk-container-id-1 div.sk-serial {display: flex;flex-direction: column;align-items: center;background-color: white;padding-right: 0.2em;padding-left: 0.2em;position: relative;}#sk-container-id-1 div.sk-item {position: relative;z-index: 1;}#sk-container-id-1 div.sk-parallel {display: flex;align-items: stretch;justify-content: center;background-color: white;position: relative;}#sk-container-id-1 div.sk-item::before, #sk-container-id-1 div.sk-parallel-item::before {content: \"\";position: absolute;border-left: 1px solid gray;box-sizing: border-box;top: 0;bottom: 0;left: 50%;z-index: -1;}#sk-container-id-1 div.sk-parallel-item {display: flex;flex-direction: column;z-index: 1;position: relative;background-color: white;}#sk-container-id-1 div.sk-parallel-item:first-child::after {align-self: flex-end;width: 50%;}#sk-container-id-1 div.sk-parallel-item:last-child::after {align-self: flex-start;width: 50%;}#sk-container-id-1 div.sk-parallel-item:only-child::after {width: 0;}#sk-container-id-1 div.sk-dashed-wrapped {border: 1px dashed gray;margin: 0 0.4em 0.5em 0.4em;box-sizing: border-box;padding-bottom: 0.4em;background-color: white;}#sk-container-id-1 div.sk-label label {font-family: monospace;font-weight: bold;display: inline-block;line-height: 1.2em;}#sk-container-id-1 div.sk-label-container {text-align: center;}#sk-container-id-1 div.sk-container {/* jupyter's `normalize.less` sets `[hidden] { display: none; }` but bootstrap.min.css set `[hidden] { display: none !important; }` so we also need the `!important` here to be able to override the default hidden behavior on the sphinx rendered scikit-learn.org. See: https://github.com/scikit-learn/scikit-learn/issues/21755 */display: inline-block !important;position: relative;}#sk-container-id-1 div.sk-text-repr-fallback {display: none;}</style><div id=\"sk-container-id-1\" class=\"sk-top-container\"><div class=\"sk-text-repr-fallback\"><pre>RandomForestRegressor(random_state=42)</pre><b>In a Jupyter environment, please rerun this cell to show the HTML representation or trust the notebook. <br />On GitHub, the HTML representation is unable to render, please try loading this page with nbviewer.org.</b></div><div class=\"sk-container\" hidden><div class=\"sk-item\"><div class=\"sk-estimator sk-toggleable\"><input class=\"sk-toggleable__control sk-hidden--visually\" id=\"sk-estimator-id-1\" type=\"checkbox\" checked><label for=\"sk-estimator-id-1\" class=\"sk-toggleable__label sk-toggleable__label-arrow\">RandomForestRegressor</label><div class=\"sk-toggleable__content\"><pre>RandomForestRegressor(random_state=42)</pre></div></div></div></div></div>"
      ],
      "text/plain": [
       "RandomForestRegressor(random_state=42)"
      ]
     },
     "execution_count": 6,
     "metadata": {},
     "output_type": "execute_result"
    }
   ],
   "source": [
    "# Initialize and train the model (Random Forest)\n",
    "model = RandomForestRegressor(n_estimators=100, random_state=42)\n",
    "model.fit(X_train, y_train)"
   ]
  },
  {
   "cell_type": "markdown",
   "id": "0a2c0657",
   "metadata": {
    "papermill": {
     "duration": 0.00736,
     "end_time": "2023-09-01T14:00:18.088587",
     "exception": false,
     "start_time": "2023-09-01T14:00:18.081227",
     "status": "completed"
    },
    "tags": []
   },
   "source": [
    "**Validation and RMSE Calculation:**\n",
    "\n",
    "The trained model is used to make predictions on the validation set, and the Root Mean Squared Error (RMSE) is calculated as a measure of prediction accuracy.\n",
    "\n",
    "Validation and RMSE calculation help assess how well the model performs on unseen data. RMSE quantifies the prediction error, which is a critical metric for regression tasks."
   ]
  },
  {
   "cell_type": "code",
   "execution_count": 7,
   "id": "533fccdb",
   "metadata": {
    "execution": {
     "iopub.execute_input": "2023-09-01T14:00:18.105688Z",
     "iopub.status.busy": "2023-09-01T14:00:18.105252Z",
     "iopub.status.idle": "2023-09-01T14:00:18.132067Z",
     "shell.execute_reply": "2023-09-01T14:00:18.130620Z"
    },
    "papermill": {
     "duration": 0.038398,
     "end_time": "2023-09-01T14:00:18.134559",
     "exception": false,
     "start_time": "2023-09-01T14:00:18.096161",
     "status": "completed"
    },
    "tags": []
   },
   "outputs": [
    {
     "name": "stdout",
     "output_type": "stream",
     "text": [
      "RMSE on validation set: 6.739854441418397\n"
     ]
    }
   ],
   "source": [
    "# Predict vacation rates on validation set\n",
    "y_pred = model.predict(X_val)\n",
    "\n",
    "# Calculate RMSE\n",
    "rmse = mean_squared_error(y_val, y_pred, squared=False)\n",
    "print(f'RMSE on validation set: {rmse}')"
   ]
  },
  {
   "cell_type": "markdown",
   "id": "bd45da1d",
   "metadata": {
    "papermill": {
     "duration": 0.00776,
     "end_time": "2023-09-01T14:00:18.150197",
     "exception": false,
     "start_time": "2023-09-01T14:00:18.142437",
     "status": "completed"
    },
    "tags": []
   },
   "source": [
    "**Test Data Preparation and Test Set Prediction:**\n",
    "\n",
    "Ensuring that the columns in the test data match the columns used for training by selecting relevant features.\n",
    "\n",
    "The trained model is applied to the test data to make predictions for the target variable, \"VACATION_RATE.\""
   ]
  },
  {
   "cell_type": "code",
   "execution_count": 8,
   "id": "c3e485c5",
   "metadata": {
    "execution": {
     "iopub.execute_input": "2023-09-01T14:00:18.169350Z",
     "iopub.status.busy": "2023-09-01T14:00:18.168962Z",
     "iopub.status.idle": "2023-09-01T14:00:18.197645Z",
     "shell.execute_reply": "2023-09-01T14:00:18.196489Z"
    },
    "papermill": {
     "duration": 0.041823,
     "end_time": "2023-09-01T14:00:18.200807",
     "exception": false,
     "start_time": "2023-09-01T14:00:18.158984",
     "status": "completed"
    },
    "tags": []
   },
   "outputs": [],
   "source": [
    "# Ensure correct column order in test_data\n",
    "test_features = test_data[X_val.columns]\n",
    "\n",
    "# Use the trained model to predict on the test set\n",
    "test_predictions = model.predict(test_features)"
   ]
  },
  {
   "cell_type": "markdown",
   "id": "533f3071",
   "metadata": {
    "papermill": {
     "duration": 0.007552,
     "end_time": "2023-09-01T14:00:18.216210",
     "exception": false,
     "start_time": "2023-09-01T14:00:18.208658",
     "status": "completed"
    },
    "tags": []
   },
   "source": [
    "**Submission File Creation and Submission CSV Output:**\n",
    "\n",
    "A DataFrame is created to combine the \"ID\" column from the test data with the model's predictions for \"VACATION_RATE.\"\n",
    "\n",
    "The submission DataFrame is saved as a CSV file named 'submission.csv.'"
   ]
  },
  {
   "cell_type": "code",
   "execution_count": 9,
   "id": "752cd47d",
   "metadata": {
    "execution": {
     "iopub.execute_input": "2023-09-01T14:00:18.233694Z",
     "iopub.status.busy": "2023-09-01T14:00:18.233068Z",
     "iopub.status.idle": "2023-09-01T14:00:18.245487Z",
     "shell.execute_reply": "2023-09-01T14:00:18.244156Z"
    },
    "papermill": {
     "duration": 0.024592,
     "end_time": "2023-09-01T14:00:18.248487",
     "exception": false,
     "start_time": "2023-09-01T14:00:18.223895",
     "status": "completed"
    },
    "tags": []
   },
   "outputs": [],
   "source": [
    "# Create a DataFrame for submission\n",
    "submission_df = pd.DataFrame({'ID': test_data['ID'], 'VACATION_RATE': test_predictions})\n",
    "\n",
    "# Save the submission DataFrame to a CSV file\n",
    "submission_df.to_csv('submission.csv', index=False)"
   ]
  }
 ],
 "kernelspec": {
  "display_name": "Python 3",
  "language": "python",
  "name": "python3"
 },
 "language_info": {
  "codemirror_mode": {
   "name": "ipython",
   "version": 3
  },
  "file_extension": ".py",
  "mimetype": "text/x-python",
  "name": "python",
  "nbconvert_exporter": "python",
  "pygments_lexer": "ipython3",
  "version": "3.6.4"
 },
 "metadata": {
  "kernelspec": {
   "display_name": "Python 3",
   "language": "python",
   "name": "python3"
  },
  "language_info": {
   "codemirror_mode": {
    "name": "ipython",
    "version": 3
   },
   "file_extension": ".py",
   "mimetype": "text/x-python",
   "name": "python",
   "nbconvert_exporter": "python",
   "pygments_lexer": "ipython3",
   "version": "3.10.12"
  },
  "papermill": {
   "default_parameters": {},
   "duration": 17.508128,
   "end_time": "2023-09-01T14:00:19.279453",
   "environment_variables": {},
   "exception": null,
   "input_path": "__notebook__.ipynb",
   "output_path": "__notebook__.ipynb",
   "parameters": {},
   "start_time": "2023-09-01T14:00:01.771325",
   "version": "2.4.0"
  }
 },
 "nbformat": 4,
 "nbformat_minor": 5
}

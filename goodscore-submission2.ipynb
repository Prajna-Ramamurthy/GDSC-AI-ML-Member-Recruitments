{
 "cells": [
  {
   "cell_type": "code",
   "execution_count": 1,
   "id": "08ed11d1",
   "metadata": {
    "_cell_guid": "b1076dfc-b9ad-4769-8c92-a6c4dae69d19",
    "_uuid": "8f2839f25d086af736a60e9eeb907d3b93b6e0e5",
    "execution": {
     "iopub.execute_input": "2023-09-01T12:44:45.774759Z",
     "iopub.status.busy": "2023-09-01T12:44:45.774217Z",
     "iopub.status.idle": "2023-09-01T12:44:45.793416Z",
     "shell.execute_reply": "2023-09-01T12:44:45.792040Z"
    },
    "papermill": {
     "duration": 0.038555,
     "end_time": "2023-09-01T12:44:45.796468",
     "exception": false,
     "start_time": "2023-09-01T12:44:45.757913",
     "status": "completed"
    },
    "tags": []
   },
   "outputs": [
    {
     "name": "stdout",
     "output_type": "stream",
     "text": [
      "/kaggle/input/gdsc-aiml-member-recruitments/train.csv\n",
      "/kaggle/input/gdsc-aiml-member-recruitments/test.csv\n",
      "/kaggle/input/gdsc-aiml-member-recruitments/sample_solution.csv\n"
     ]
    }
   ],
   "source": [
    "# This Python 3 environment comes with many helpful analytics libraries installed\n",
    "# It is defined by the kaggle/python Docker image: https://github.com/kaggle/docker-python\n",
    "# For example, here's several helpful packages to load\n",
    "\n",
    "import numpy as np # linear algebra\n",
    "import pandas as pd # data processing, CSV file I/O (e.g. pd.read_csv)\n",
    "\n",
    "# Input data files are available in the read-only \"../input/\" directory\n",
    "# For example, running this (by clicking run or pressing Shift+Enter) will list all files under the input directory\n",
    "\n",
    "import os\n",
    "for dirname, _, filenames in os.walk('/kaggle/input'):\n",
    "    for filename in filenames:\n",
    "        print(os.path.join(dirname, filename))\n",
    "\n",
    "# You can write up to 20GB to the current directory (/kaggle/working/) that gets preserved as output when you create a version using \"Save & Run All\" \n",
    "# You can also write temporary files to /kaggle/temp/, but they won't be saved outside of the current session"
   ]
  },
  {
   "cell_type": "markdown",
   "id": "d7e5991d",
   "metadata": {
    "papermill": {
     "duration": 0.013387,
     "end_time": "2023-09-01T12:44:45.823714",
     "exception": false,
     "start_time": "2023-09-01T12:44:45.810327",
     "status": "completed"
    },
    "tags": []
   },
   "source": [
    "**Importing Libraries:**\n",
    "Importing the required Python libraries for data manipulation, imputation, machine learning, and evaluation."
   ]
  },
  {
   "cell_type": "code",
   "execution_count": 2,
   "id": "0c9dd3e0",
   "metadata": {
    "execution": {
     "iopub.execute_input": "2023-09-01T12:44:45.852876Z",
     "iopub.status.busy": "2023-09-01T12:44:45.852068Z",
     "iopub.status.idle": "2023-09-01T12:44:47.717507Z",
     "shell.execute_reply": "2023-09-01T12:44:47.716191Z"
    },
    "papermill": {
     "duration": 1.883094,
     "end_time": "2023-09-01T12:44:47.720609",
     "exception": false,
     "start_time": "2023-09-01T12:44:45.837515",
     "status": "completed"
    },
    "tags": []
   },
   "outputs": [
    {
     "name": "stderr",
     "output_type": "stream",
     "text": [
      "/opt/conda/lib/python3.10/site-packages/scipy/__init__.py:146: UserWarning: A NumPy version >=1.16.5 and <1.23.0 is required for this version of SciPy (detected version 1.23.5\n",
      "  warnings.warn(f\"A NumPy version >={np_minversion} and <{np_maxversion}\"\n"
     ]
    }
   ],
   "source": [
    "import pandas as pd\n",
    "from sklearn.impute import SimpleImputer\n",
    "from sklearn.metrics import mean_squared_error\n",
    "from sklearn.ensemble import RandomForestRegressor"
   ]
  },
  {
   "cell_type": "markdown",
   "id": "6d3d65c7",
   "metadata": {
    "papermill": {
     "duration": 0.014951,
     "end_time": "2023-09-01T12:44:47.748932",
     "exception": false,
     "start_time": "2023-09-01T12:44:47.733981",
     "status": "completed"
    },
    "tags": []
   },
   "source": [
    "**Data Loading:**\n",
    "Loading the training and test data from CSV files into Pandas DataFrames for further processing."
   ]
  },
  {
   "cell_type": "code",
   "execution_count": 3,
   "id": "eb3d63f5",
   "metadata": {
    "execution": {
     "iopub.execute_input": "2023-09-01T12:44:47.778372Z",
     "iopub.status.busy": "2023-09-01T12:44:47.777949Z",
     "iopub.status.idle": "2023-09-01T12:44:47.864328Z",
     "shell.execute_reply": "2023-09-01T12:44:47.863068Z"
    },
    "papermill": {
     "duration": 0.104118,
     "end_time": "2023-09-01T12:44:47.867225",
     "exception": false,
     "start_time": "2023-09-01T12:44:47.763107",
     "status": "completed"
    },
    "tags": []
   },
   "outputs": [],
   "source": [
    "# Load the training and test data\n",
    "train_data = pd.read_csv('/kaggle/input/gdsc-aiml-member-recruitments/train.csv')\n",
    "test_data = pd.read_csv('/kaggle/input/gdsc-aiml-member-recruitments/test.csv')\n",
    "year = 1\n",
    "week = 1\n",
    "weeks = []\n",
    "for ind in train_data.index:\n",
    "    if (train_data['YEAR'][ind]!=year):\n",
    "        year = train_data['YEAR'][ind]\n",
    "        week = 1\n",
    "    else:\n",
    "        week = week + 1\n",
    "    weeks.append(week)\n",
    "train_data.insert(loc = 2,\n",
    "          column = 'NEW_WEEK',\n",
    "          value = weeks)\n",
    "\n",
    "year = 2009\n",
    "week = 30\n",
    "weeks = []\n",
    "for ind in test_data.index:\n",
    "    if (test_data['YEAR'][ind]!=year):\n",
    "        year = test_data['YEAR'][ind]\n",
    "        week = 1\n",
    "    else:\n",
    "        week = week + 1\n",
    "    weeks.append(week)\n",
    "test_data.insert(loc = 2,\n",
    "          column = 'NEW_WEEK',\n",
    "          value = weeks)"
   ]
  },
  {
   "cell_type": "markdown",
   "id": "eeeb4d3b",
   "metadata": {
    "papermill": {
     "duration": 0.012658,
     "end_time": "2023-09-01T12:44:47.893072",
     "exception": false,
     "start_time": "2023-09-01T12:44:47.880414",
     "status": "completed"
    },
    "tags": []
   },
   "source": [
    "**Creating Week Numbers:**\n",
    "Creating a new feature column, NEW_WEEK, to represent the week number within each year for both the training and test datasets. This can help capture temporal patterns in the data."
   ]
  },
  {
   "cell_type": "code",
   "execution_count": 4,
   "id": "9dbd1d13",
   "metadata": {
    "execution": {
     "iopub.execute_input": "2023-09-01T12:44:47.922330Z",
     "iopub.status.busy": "2023-09-01T12:44:47.921531Z",
     "iopub.status.idle": "2023-09-01T12:44:47.942132Z",
     "shell.execute_reply": "2023-09-01T12:44:47.940900Z"
    },
    "papermill": {
     "duration": 0.03835,
     "end_time": "2023-09-01T12:44:47.945032",
     "exception": false,
     "start_time": "2023-09-01T12:44:47.906682",
     "status": "completed"
    },
    "tags": []
   },
   "outputs": [
    {
     "name": "stdout",
     "output_type": "stream",
     "text": [
      "   ID    YEAR  NEW_WEEK   T2M_RANGE    T2M_MAX    T2M_MIN       RH2M  \\\n",
      "0   0  1982.0         1 -241.552430  29.798545  13.691128  71.652934   \n",
      "1   1  1982.0         2 -241.819997  30.902708  15.298046  69.754933   \n",
      "2   2  1982.0         3 -241.883202  30.296561  14.660419  66.661416   \n",
      "3   3  1982.0         4 -242.007629  30.803224  15.246491  67.621173   \n",
      "4   4  1982.0         5 -240.659332  32.500906  15.303059  62.097329   \n",
      "\n",
      "          PS     WS10M      QV2M        T2M  VACATION_RATE  \n",
      "0  89.725069  3.658959  8.474319  21.723403      64.184741  \n",
      "1  89.865668  3.529113  8.988374  22.911522      42.649137  \n",
      "2  89.846273  4.217007  8.474923  22.994887      52.819141  \n",
      "3  90.029795  4.484080  9.005508  23.594655      39.445489  \n",
      "4  89.825707  3.057211  8.307515  24.536776      46.444289  \n",
      "     ID    YEAR  NEW_WEEK   T2M_RANGE    T2M_MAX    T2M_MIN       RH2M  \\\n",
      "0  1440  2009.0        31 -309.569706  32.919144  17.735611  74.415249   \n",
      "1  1441  2009.0        32 -310.763533  32.340370  17.955298  75.232482   \n",
      "2  1442  2009.0        33 -313.096292  29.670217  17.788919  80.950265   \n",
      "3  1443  2009.0        34 -312.110915  29.586632  16.777071  82.254238   \n",
      "4  1444  2009.0        35 -312.445008  30.088295  17.233512  81.311915   \n",
      "\n",
      "          PS     WS10M  \n",
      "0  82.443918  6.513046  \n",
      "1  82.320169  5.163099  \n",
      "2  82.456590  3.974139  \n",
      "3  82.460926  5.504794  \n",
      "4  82.326908  5.634695  \n"
     ]
    }
   ],
   "source": [
    "print(train_data.head(5))\n",
    "print(test_data.head(5))"
   ]
  },
  {
   "cell_type": "markdown",
   "id": "9cb28adc",
   "metadata": {
    "papermill": {
     "duration": 0.012759,
     "end_time": "2023-09-01T12:44:47.971196",
     "exception": false,
     "start_time": "2023-09-01T12:44:47.958437",
     "status": "completed"
    },
    "tags": []
   },
   "source": [
    "**Handling Missing Values:**\n",
    "Addressing missing values in specific columns (listed in impute_cols) by filling them with the mean value of each respective column. This ensures completeness of the data."
   ]
  },
  {
   "cell_type": "code",
   "execution_count": 5,
   "id": "00c7f0f0",
   "metadata": {
    "execution": {
     "iopub.execute_input": "2023-09-01T12:44:47.999568Z",
     "iopub.status.busy": "2023-09-01T12:44:47.999161Z",
     "iopub.status.idle": "2023-09-01T12:44:48.024854Z",
     "shell.execute_reply": "2023-09-01T12:44:48.023828Z"
    },
    "papermill": {
     "duration": 0.043263,
     "end_time": "2023-09-01T12:44:48.027515",
     "exception": false,
     "start_time": "2023-09-01T12:44:47.984252",
     "status": "completed"
    },
    "tags": []
   },
   "outputs": [],
   "source": [
    "# Handle missing values\n",
    "imputer = SimpleImputer(strategy='mean')\n",
    "\n",
    "# Get the columns for imputation\n",
    "impute_cols = ['YEAR', 'T2M_RANGE', 'T2M_MAX', 'T2M_MIN', 'RH2M', 'PS', 'WS10M', \"NEW_WEEK\"]\n",
    "\n",
    "# Impute missing values for train and test data\n",
    "train_data[impute_cols] = imputer.fit_transform(train_data[impute_cols])\n",
    "test_data[impute_cols] = imputer.fit_transform(test_data[impute_cols])"
   ]
  },
  {
   "cell_type": "markdown",
   "id": "f70a35de",
   "metadata": {
    "papermill": {
     "duration": 0.012973,
     "end_time": "2023-09-01T12:44:48.053680",
     "exception": false,
     "start_time": "2023-09-01T12:44:48.040707",
     "status": "completed"
    },
    "tags": []
   },
   "source": [
    "**Splitting Data:**\n",
    "Dividing the training data into two parts: features (X) and target variables (y1 and y2) for regression tasks. The features are defined in X, while y1 and y2 represent target variables."
   ]
  },
  {
   "cell_type": "code",
   "execution_count": 6,
   "id": "9ba50f79",
   "metadata": {
    "execution": {
     "iopub.execute_input": "2023-09-01T12:44:48.082556Z",
     "iopub.status.busy": "2023-09-01T12:44:48.081661Z",
     "iopub.status.idle": "2023-09-01T12:44:48.095041Z",
     "shell.execute_reply": "2023-09-01T12:44:48.093812Z"
    },
    "papermill": {
     "duration": 0.030632,
     "end_time": "2023-09-01T12:44:48.097930",
     "exception": false,
     "start_time": "2023-09-01T12:44:48.067298",
     "status": "completed"
    },
    "tags": []
   },
   "outputs": [],
   "source": [
    "# Splitting into features (X) and target (y)\n",
    "X = train_data.drop(columns=['VACATION_RATE', 'QV2M', 'T2M'])\n",
    "X = X.set_index(['YEAR','NEW_WEEK'])\n",
    "\n",
    "y1 = train_data['T2M']\n",
    "y2 = train_data['QV2M']"
   ]
  },
  {
   "cell_type": "markdown",
   "id": "192b5228",
   "metadata": {
    "papermill": {
     "duration": 0.012653,
     "end_time": "2023-09-01T12:44:48.123911",
     "exception": false,
     "start_time": "2023-09-01T12:44:48.111258",
     "status": "completed"
    },
    "tags": []
   },
   "source": [
    "**Data Slicing for Training and Validation:**\n",
    "Splitting the data into training and validation sets. The first 1147 samples (divided based on the year) are used for training, and the remaining samples are used for validation in the regression tasks."
   ]
  },
  {
   "cell_type": "code",
   "execution_count": 7,
   "id": "02b98188",
   "metadata": {
    "execution": {
     "iopub.execute_input": "2023-09-01T12:44:48.152227Z",
     "iopub.status.busy": "2023-09-01T12:44:48.151812Z",
     "iopub.status.idle": "2023-09-01T12:44:48.158556Z",
     "shell.execute_reply": "2023-09-01T12:44:48.157296Z"
    },
    "papermill": {
     "duration": 0.02432,
     "end_time": "2023-09-01T12:44:48.161216",
     "exception": false,
     "start_time": "2023-09-01T12:44:48.136896",
     "status": "completed"
    },
    "tags": []
   },
   "outputs": [],
   "source": [
    "# Slicing the data\n",
    "X_train = X[:1147]\n",
    "y_train1 = y1[:1147]\n",
    "y_train2 = y2[:1147]\n",
    "\n",
    "X_val = X[1147:]\n",
    "y_val1 = y1[1147:]\n",
    "y_val2 = y2[1147:]"
   ]
  },
  {
   "cell_type": "code",
   "execution_count": 8,
   "id": "e8988682",
   "metadata": {
    "execution": {
     "iopub.execute_input": "2023-09-01T12:44:48.189705Z",
     "iopub.status.busy": "2023-09-01T12:44:48.189286Z",
     "iopub.status.idle": "2023-09-01T12:44:48.205720Z",
     "shell.execute_reply": "2023-09-01T12:44:48.204429Z"
    },
    "papermill": {
     "duration": 0.033686,
     "end_time": "2023-09-01T12:44:48.208325",
     "exception": false,
     "start_time": "2023-09-01T12:44:48.174639",
     "status": "completed"
    },
    "tags": []
   },
   "outputs": [
    {
     "name": "stdout",
     "output_type": "stream",
     "text": [
      "                 ID   T2M_RANGE    T2M_MAX    T2M_MIN       RH2M         PS  \\\n",
      "YEAR   NEW_WEEK                                                               \n",
      "1982.0 1.0        0 -241.552430  29.798545  13.691128  71.652934  89.725069   \n",
      "       2.0        1 -241.819997  30.902708  15.298046  69.754933  89.865668   \n",
      "       3.0        2 -241.883202  30.296561  14.660419  66.661416  89.846273   \n",
      "       4.0        3 -242.007629  30.803224  15.246491  67.621173  90.029795   \n",
      "       5.0        4 -240.659332  32.500906  15.303059  62.097329  89.825707   \n",
      "\n",
      "                    WS10M  \n",
      "YEAR   NEW_WEEK            \n",
      "1982.0 1.0       3.658959  \n",
      "       2.0       3.529113  \n",
      "       3.0       4.217007  \n",
      "       4.0       4.484080  \n",
      "       5.0       3.057211  \n",
      "                   ID   T2M_RANGE    T2M_MAX    T2M_MIN       RH2M         PS  \\\n",
      "YEAR   NEW_WEEK                                                                 \n",
      "2004.0 1.0       1147 -243.592558  31.740879  18.090290  70.579424  89.901119   \n",
      "       2.0       1148 -242.341934  30.769624  15.632860  64.492469  90.091327   \n",
      "       3.0       1149 -237.259196  33.779123  12.514871  51.762966  89.917648   \n",
      "       4.0       1150 -238.749850  35.118694  15.893115  53.922085  89.551576   \n",
      "       5.0       1151 -242.968984  34.221903  19.554815  61.871195  89.774134   \n",
      "\n",
      "                    WS10M  \n",
      "YEAR   NEW_WEEK            \n",
      "2004.0 1.0       4.223951  \n",
      "       2.0       4.054449  \n",
      "       3.0       3.497057  \n",
      "       4.0       2.786744  \n",
      "       5.0       2.933195  \n"
     ]
    }
   ],
   "source": [
    "print(X_train.head(5))\n",
    "print(X_val.head(5))"
   ]
  },
  {
   "cell_type": "markdown",
   "id": "846cf0aa",
   "metadata": {
    "papermill": {
     "duration": 0.013262,
     "end_time": "2023-09-01T12:44:48.234943",
     "exception": false,
     "start_time": "2023-09-01T12:44:48.221681",
     "status": "completed"
    },
    "tags": []
   },
   "source": [
    "**Model Initialization and Training:**\n",
    "Initializing two Random Forest regression models (model1 and model2) with specific hyperparameters and then training them using the training data and their respective target variables."
   ]
  },
  {
   "cell_type": "code",
   "execution_count": 9,
   "id": "5c511ee2",
   "metadata": {
    "execution": {
     "iopub.execute_input": "2023-09-01T12:44:48.263509Z",
     "iopub.status.busy": "2023-09-01T12:44:48.263053Z",
     "iopub.status.idle": "2023-09-01T12:45:11.778272Z",
     "shell.execute_reply": "2023-09-01T12:45:11.776958Z"
    },
    "papermill": {
     "duration": 23.532871,
     "end_time": "2023-09-01T12:45:11.781082",
     "exception": false,
     "start_time": "2023-09-01T12:44:48.248211",
     "status": "completed"
    },
    "tags": []
   },
   "outputs": [
    {
     "data": {
      "text/html": [
       "<style>#sk-container-id-1 {color: black;background-color: white;}#sk-container-id-1 pre{padding: 0;}#sk-container-id-1 div.sk-toggleable {background-color: white;}#sk-container-id-1 label.sk-toggleable__label {cursor: pointer;display: block;width: 100%;margin-bottom: 0;padding: 0.3em;box-sizing: border-box;text-align: center;}#sk-container-id-1 label.sk-toggleable__label-arrow:before {content: \"▸\";float: left;margin-right: 0.25em;color: #696969;}#sk-container-id-1 label.sk-toggleable__label-arrow:hover:before {color: black;}#sk-container-id-1 div.sk-estimator:hover label.sk-toggleable__label-arrow:before {color: black;}#sk-container-id-1 div.sk-toggleable__content {max-height: 0;max-width: 0;overflow: hidden;text-align: left;background-color: #f0f8ff;}#sk-container-id-1 div.sk-toggleable__content pre {margin: 0.2em;color: black;border-radius: 0.25em;background-color: #f0f8ff;}#sk-container-id-1 input.sk-toggleable__control:checked~div.sk-toggleable__content {max-height: 200px;max-width: 100%;overflow: auto;}#sk-container-id-1 input.sk-toggleable__control:checked~label.sk-toggleable__label-arrow:before {content: \"▾\";}#sk-container-id-1 div.sk-estimator input.sk-toggleable__control:checked~label.sk-toggleable__label {background-color: #d4ebff;}#sk-container-id-1 div.sk-label input.sk-toggleable__control:checked~label.sk-toggleable__label {background-color: #d4ebff;}#sk-container-id-1 input.sk-hidden--visually {border: 0;clip: rect(1px 1px 1px 1px);clip: rect(1px, 1px, 1px, 1px);height: 1px;margin: -1px;overflow: hidden;padding: 0;position: absolute;width: 1px;}#sk-container-id-1 div.sk-estimator {font-family: monospace;background-color: #f0f8ff;border: 1px dotted black;border-radius: 0.25em;box-sizing: border-box;margin-bottom: 0.5em;}#sk-container-id-1 div.sk-estimator:hover {background-color: #d4ebff;}#sk-container-id-1 div.sk-parallel-item::after {content: \"\";width: 100%;border-bottom: 1px solid gray;flex-grow: 1;}#sk-container-id-1 div.sk-label:hover label.sk-toggleable__label {background-color: #d4ebff;}#sk-container-id-1 div.sk-serial::before {content: \"\";position: absolute;border-left: 1px solid gray;box-sizing: border-box;top: 0;bottom: 0;left: 50%;z-index: 0;}#sk-container-id-1 div.sk-serial {display: flex;flex-direction: column;align-items: center;background-color: white;padding-right: 0.2em;padding-left: 0.2em;position: relative;}#sk-container-id-1 div.sk-item {position: relative;z-index: 1;}#sk-container-id-1 div.sk-parallel {display: flex;align-items: stretch;justify-content: center;background-color: white;position: relative;}#sk-container-id-1 div.sk-item::before, #sk-container-id-1 div.sk-parallel-item::before {content: \"\";position: absolute;border-left: 1px solid gray;box-sizing: border-box;top: 0;bottom: 0;left: 50%;z-index: -1;}#sk-container-id-1 div.sk-parallel-item {display: flex;flex-direction: column;z-index: 1;position: relative;background-color: white;}#sk-container-id-1 div.sk-parallel-item:first-child::after {align-self: flex-end;width: 50%;}#sk-container-id-1 div.sk-parallel-item:last-child::after {align-self: flex-start;width: 50%;}#sk-container-id-1 div.sk-parallel-item:only-child::after {width: 0;}#sk-container-id-1 div.sk-dashed-wrapped {border: 1px dashed gray;margin: 0 0.4em 0.5em 0.4em;box-sizing: border-box;padding-bottom: 0.4em;background-color: white;}#sk-container-id-1 div.sk-label label {font-family: monospace;font-weight: bold;display: inline-block;line-height: 1.2em;}#sk-container-id-1 div.sk-label-container {text-align: center;}#sk-container-id-1 div.sk-container {/* jupyter's `normalize.less` sets `[hidden] { display: none; }` but bootstrap.min.css set `[hidden] { display: none !important; }` so we also need the `!important` here to be able to override the default hidden behavior on the sphinx rendered scikit-learn.org. See: https://github.com/scikit-learn/scikit-learn/issues/21755 */display: inline-block !important;position: relative;}#sk-container-id-1 div.sk-text-repr-fallback {display: none;}</style><div id=\"sk-container-id-1\" class=\"sk-top-container\"><div class=\"sk-text-repr-fallback\"><pre>RandomForestRegressor(n_estimators=1600, random_state=80)</pre><b>In a Jupyter environment, please rerun this cell to show the HTML representation or trust the notebook. <br />On GitHub, the HTML representation is unable to render, please try loading this page with nbviewer.org.</b></div><div class=\"sk-container\" hidden><div class=\"sk-item\"><div class=\"sk-estimator sk-toggleable\"><input class=\"sk-toggleable__control sk-hidden--visually\" id=\"sk-estimator-id-1\" type=\"checkbox\" checked><label for=\"sk-estimator-id-1\" class=\"sk-toggleable__label sk-toggleable__label-arrow\">RandomForestRegressor</label><div class=\"sk-toggleable__content\"><pre>RandomForestRegressor(n_estimators=1600, random_state=80)</pre></div></div></div></div></div>"
      ],
      "text/plain": [
       "RandomForestRegressor(n_estimators=1600, random_state=80)"
      ]
     },
     "execution_count": 9,
     "metadata": {},
     "output_type": "execute_result"
    }
   ],
   "source": [
    "# Initialize and train the model (Random Forest)\n",
    "model1 = RandomForestRegressor(n_estimators=1600, random_state=80)\n",
    "model2 = RandomForestRegressor(n_estimators=1600, random_state=80)\n",
    "\n",
    "model1.fit(X_train, y_train1)\n",
    "model2.fit(X_train, y_train2)"
   ]
  },
  {
   "cell_type": "markdown",
   "id": "d9e1b721",
   "metadata": {
    "papermill": {
     "duration": 0.013651,
     "end_time": "2023-09-01T12:45:11.808747",
     "exception": false,
     "start_time": "2023-09-01T12:45:11.795096",
     "status": "completed"
    },
    "tags": []
   },
   "source": [
    "**Prediction on Validation Set:**\n",
    "Using the trained models to make predictions (y_pred1 and y_pred2) on the validation set, which can be used for performance evaluation."
   ]
  },
  {
   "cell_type": "code",
   "execution_count": 10,
   "id": "810ecaa2",
   "metadata": {
    "execution": {
     "iopub.execute_input": "2023-09-01T12:45:11.837696Z",
     "iopub.status.busy": "2023-09-01T12:45:11.837309Z",
     "iopub.status.idle": "2023-09-01T12:45:12.326549Z",
     "shell.execute_reply": "2023-09-01T12:45:12.325384Z"
    },
    "papermill": {
     "duration": 0.506955,
     "end_time": "2023-09-01T12:45:12.329445",
     "exception": false,
     "start_time": "2023-09-01T12:45:11.822490",
     "status": "completed"
    },
    "tags": []
   },
   "outputs": [],
   "source": [
    "# Predict vacation rates on validation set\n",
    "y_pred1 = model1.predict(X_val)\n",
    "y_pred2 = model2.predict(X_val)"
   ]
  },
  {
   "cell_type": "code",
   "execution_count": 11,
   "id": "d9677a7e",
   "metadata": {
    "execution": {
     "iopub.execute_input": "2023-09-01T12:45:12.358163Z",
     "iopub.status.busy": "2023-09-01T12:45:12.357742Z",
     "iopub.status.idle": "2023-09-01T12:45:12.364673Z",
     "shell.execute_reply": "2023-09-01T12:45:12.363462Z"
    },
    "papermill": {
     "duration": 0.024104,
     "end_time": "2023-09-01T12:45:12.367168",
     "exception": false,
     "start_time": "2023-09-01T12:45:12.343064",
     "status": "completed"
    },
    "tags": []
   },
   "outputs": [
    {
     "name": "stdout",
     "output_type": "stream",
     "text": [
      "[25.31592891 23.38474732 24.20149582 26.42904374 28.22016416]\n",
      "[10.89378003  9.18847467  6.05793486  7.51071958 10.81005375]\n"
     ]
    }
   ],
   "source": [
    "print(y_pred1[:5])\n",
    "print(y_pred2[:5])"
   ]
  },
  {
   "cell_type": "markdown",
   "id": "d34cbf92",
   "metadata": {
    "papermill": {
     "duration": 0.013254,
     "end_time": "2023-09-01T12:45:12.394104",
     "exception": false,
     "start_time": "2023-09-01T12:45:12.380850",
     "status": "completed"
    },
    "tags": []
   },
   "source": [
    "**Continue with Vacation Rate Prediction:**\n",
    "Updating the feature set (X) and target variable (y3) to predict VACATION_RATE."
   ]
  },
  {
   "cell_type": "code",
   "execution_count": 12,
   "id": "969f10b2",
   "metadata": {
    "execution": {
     "iopub.execute_input": "2023-09-01T12:45:12.423376Z",
     "iopub.status.busy": "2023-09-01T12:45:12.422895Z",
     "iopub.status.idle": "2023-09-01T12:45:12.433617Z",
     "shell.execute_reply": "2023-09-01T12:45:12.432330Z"
    },
    "papermill": {
     "duration": 0.028552,
     "end_time": "2023-09-01T12:45:12.436239",
     "exception": false,
     "start_time": "2023-09-01T12:45:12.407687",
     "status": "completed"
    },
    "tags": []
   },
   "outputs": [],
   "source": [
    "# Continuing with Vacation Rate prediction\n",
    "X = train_data.drop(columns=['VACATION_RATE'])\n",
    "X = X.set_index(['YEAR','NEW_WEEK'])\n",
    "y3 = train_data['VACATION_RATE']"
   ]
  },
  {
   "cell_type": "markdown",
   "id": "9a9f6888",
   "metadata": {
    "papermill": {
     "duration": 0.013684,
     "end_time": "2023-09-01T12:45:12.463712",
     "exception": false,
     "start_time": "2023-09-01T12:45:12.450028",
     "status": "completed"
    },
    "tags": []
   },
   "source": [
    "**Data Slicing for Training and Validation (VACATION_RATE):**\n",
    "Performing another data split, separating the data into training and validation sets for predicting VACATION_RATE."
   ]
  },
  {
   "cell_type": "code",
   "execution_count": 13,
   "id": "506a7310",
   "metadata": {
    "execution": {
     "iopub.execute_input": "2023-09-01T12:45:12.492954Z",
     "iopub.status.busy": "2023-09-01T12:45:12.492515Z",
     "iopub.status.idle": "2023-09-01T12:45:12.499393Z",
     "shell.execute_reply": "2023-09-01T12:45:12.498103Z"
    },
    "papermill": {
     "duration": 0.024589,
     "end_time": "2023-09-01T12:45:12.502059",
     "exception": false,
     "start_time": "2023-09-01T12:45:12.477470",
     "status": "completed"
    },
    "tags": []
   },
   "outputs": [],
   "source": [
    "# Slicing the data\n",
    "X_train = X[:1147]\n",
    "y_train3 = y3[:1147]\n",
    "\n",
    "X_val = X[1147:]\n",
    "y_val3 = y3[1147:]"
   ]
  },
  {
   "cell_type": "markdown",
   "id": "75f032f1",
   "metadata": {
    "papermill": {
     "duration": 0.013782,
     "end_time": "2023-09-01T12:45:12.530216",
     "exception": false,
     "start_time": "2023-09-01T12:45:12.516434",
     "status": "completed"
    },
    "tags": []
   },
   "source": [
    "**Model Initialization and Training (VACATION_RATE):**\n",
    "Initializing and training a Random Forest regression model (model3) to predict VACATION_RATE.\n",
    "\n",
    "Random Forest is a good choice for a time series seasonal dataset, because it can effectively capture complex relationships, handle noise, provide feature importance insights, mitigate overfitting, and support parallel processing."
   ]
  },
  {
   "cell_type": "code",
   "execution_count": 14,
   "id": "96150aaa",
   "metadata": {
    "execution": {
     "iopub.execute_input": "2023-09-01T12:45:12.559678Z",
     "iopub.status.busy": "2023-09-01T12:45:12.559268Z",
     "iopub.status.idle": "2023-09-01T12:45:28.333556Z",
     "shell.execute_reply": "2023-09-01T12:45:28.332233Z"
    },
    "papermill": {
     "duration": 15.791641,
     "end_time": "2023-09-01T12:45:28.336038",
     "exception": false,
     "start_time": "2023-09-01T12:45:12.544397",
     "status": "completed"
    },
    "tags": []
   },
   "outputs": [
    {
     "data": {
      "text/html": [
       "<style>#sk-container-id-2 {color: black;background-color: white;}#sk-container-id-2 pre{padding: 0;}#sk-container-id-2 div.sk-toggleable {background-color: white;}#sk-container-id-2 label.sk-toggleable__label {cursor: pointer;display: block;width: 100%;margin-bottom: 0;padding: 0.3em;box-sizing: border-box;text-align: center;}#sk-container-id-2 label.sk-toggleable__label-arrow:before {content: \"▸\";float: left;margin-right: 0.25em;color: #696969;}#sk-container-id-2 label.sk-toggleable__label-arrow:hover:before {color: black;}#sk-container-id-2 div.sk-estimator:hover label.sk-toggleable__label-arrow:before {color: black;}#sk-container-id-2 div.sk-toggleable__content {max-height: 0;max-width: 0;overflow: hidden;text-align: left;background-color: #f0f8ff;}#sk-container-id-2 div.sk-toggleable__content pre {margin: 0.2em;color: black;border-radius: 0.25em;background-color: #f0f8ff;}#sk-container-id-2 input.sk-toggleable__control:checked~div.sk-toggleable__content {max-height: 200px;max-width: 100%;overflow: auto;}#sk-container-id-2 input.sk-toggleable__control:checked~label.sk-toggleable__label-arrow:before {content: \"▾\";}#sk-container-id-2 div.sk-estimator input.sk-toggleable__control:checked~label.sk-toggleable__label {background-color: #d4ebff;}#sk-container-id-2 div.sk-label input.sk-toggleable__control:checked~label.sk-toggleable__label {background-color: #d4ebff;}#sk-container-id-2 input.sk-hidden--visually {border: 0;clip: rect(1px 1px 1px 1px);clip: rect(1px, 1px, 1px, 1px);height: 1px;margin: -1px;overflow: hidden;padding: 0;position: absolute;width: 1px;}#sk-container-id-2 div.sk-estimator {font-family: monospace;background-color: #f0f8ff;border: 1px dotted black;border-radius: 0.25em;box-sizing: border-box;margin-bottom: 0.5em;}#sk-container-id-2 div.sk-estimator:hover {background-color: #d4ebff;}#sk-container-id-2 div.sk-parallel-item::after {content: \"\";width: 100%;border-bottom: 1px solid gray;flex-grow: 1;}#sk-container-id-2 div.sk-label:hover label.sk-toggleable__label {background-color: #d4ebff;}#sk-container-id-2 div.sk-serial::before {content: \"\";position: absolute;border-left: 1px solid gray;box-sizing: border-box;top: 0;bottom: 0;left: 50%;z-index: 0;}#sk-container-id-2 div.sk-serial {display: flex;flex-direction: column;align-items: center;background-color: white;padding-right: 0.2em;padding-left: 0.2em;position: relative;}#sk-container-id-2 div.sk-item {position: relative;z-index: 1;}#sk-container-id-2 div.sk-parallel {display: flex;align-items: stretch;justify-content: center;background-color: white;position: relative;}#sk-container-id-2 div.sk-item::before, #sk-container-id-2 div.sk-parallel-item::before {content: \"\";position: absolute;border-left: 1px solid gray;box-sizing: border-box;top: 0;bottom: 0;left: 50%;z-index: -1;}#sk-container-id-2 div.sk-parallel-item {display: flex;flex-direction: column;z-index: 1;position: relative;background-color: white;}#sk-container-id-2 div.sk-parallel-item:first-child::after {align-self: flex-end;width: 50%;}#sk-container-id-2 div.sk-parallel-item:last-child::after {align-self: flex-start;width: 50%;}#sk-container-id-2 div.sk-parallel-item:only-child::after {width: 0;}#sk-container-id-2 div.sk-dashed-wrapped {border: 1px dashed gray;margin: 0 0.4em 0.5em 0.4em;box-sizing: border-box;padding-bottom: 0.4em;background-color: white;}#sk-container-id-2 div.sk-label label {font-family: monospace;font-weight: bold;display: inline-block;line-height: 1.2em;}#sk-container-id-2 div.sk-label-container {text-align: center;}#sk-container-id-2 div.sk-container {/* jupyter's `normalize.less` sets `[hidden] { display: none; }` but bootstrap.min.css set `[hidden] { display: none !important; }` so we also need the `!important` here to be able to override the default hidden behavior on the sphinx rendered scikit-learn.org. See: https://github.com/scikit-learn/scikit-learn/issues/21755 */display: inline-block !important;position: relative;}#sk-container-id-2 div.sk-text-repr-fallback {display: none;}</style><div id=\"sk-container-id-2\" class=\"sk-top-container\"><div class=\"sk-text-repr-fallback\"><pre>RandomForestRegressor(n_estimators=1600, random_state=80)</pre><b>In a Jupyter environment, please rerun this cell to show the HTML representation or trust the notebook. <br />On GitHub, the HTML representation is unable to render, please try loading this page with nbviewer.org.</b></div><div class=\"sk-container\" hidden><div class=\"sk-item\"><div class=\"sk-estimator sk-toggleable\"><input class=\"sk-toggleable__control sk-hidden--visually\" id=\"sk-estimator-id-2\" type=\"checkbox\" checked><label for=\"sk-estimator-id-2\" class=\"sk-toggleable__label sk-toggleable__label-arrow\">RandomForestRegressor</label><div class=\"sk-toggleable__content\"><pre>RandomForestRegressor(n_estimators=1600, random_state=80)</pre></div></div></div></div></div>"
      ],
      "text/plain": [
       "RandomForestRegressor(n_estimators=1600, random_state=80)"
      ]
     },
     "execution_count": 14,
     "metadata": {},
     "output_type": "execute_result"
    }
   ],
   "source": [
    "# Initialize and train the model (Random Forest)\n",
    "model3 = RandomForestRegressor(n_estimators=1600, random_state=80)\n",
    "model3.fit(X_train, y_train3)"
   ]
  },
  {
   "cell_type": "markdown",
   "id": "10891af3",
   "metadata": {
    "papermill": {
     "duration": 0.013474,
     "end_time": "2023-09-01T12:45:28.364700",
     "exception": false,
     "start_time": "2023-09-01T12:45:28.351226",
     "status": "completed"
    },
    "tags": []
   },
   "source": [
    "**Prediction on Validation Set (VACATION_RATE):**\n",
    "Using model3 to make predictions (y_pred3) for VACATION_RATE on the validation set."
   ]
  },
  {
   "cell_type": "code",
   "execution_count": 15,
   "id": "4fd144b5",
   "metadata": {
    "execution": {
     "iopub.execute_input": "2023-09-01T12:45:28.394362Z",
     "iopub.status.busy": "2023-09-01T12:45:28.393916Z",
     "iopub.status.idle": "2023-09-01T12:45:28.663483Z",
     "shell.execute_reply": "2023-09-01T12:45:28.662356Z"
    },
    "papermill": {
     "duration": 0.287655,
     "end_time": "2023-09-01T12:45:28.666321",
     "exception": false,
     "start_time": "2023-09-01T12:45:28.378666",
     "status": "completed"
    },
    "tags": []
   },
   "outputs": [],
   "source": [
    "# Predict vacation rates on validation set\n",
    "y_pred3 = model3.predict(X_val)"
   ]
  },
  {
   "cell_type": "code",
   "execution_count": 16,
   "id": "cc1078c0",
   "metadata": {
    "execution": {
     "iopub.execute_input": "2023-09-01T12:45:28.697596Z",
     "iopub.status.busy": "2023-09-01T12:45:28.697193Z",
     "iopub.status.idle": "2023-09-01T12:45:28.703680Z",
     "shell.execute_reply": "2023-09-01T12:45:28.702308Z"
    },
    "papermill": {
     "duration": 0.025588,
     "end_time": "2023-09-01T12:45:28.706604",
     "exception": false,
     "start_time": "2023-09-01T12:45:28.681016",
     "status": "completed"
    },
    "tags": []
   },
   "outputs": [
    {
     "name": "stdout",
     "output_type": "stream",
     "text": [
      "[  8.32882878  40.48270232 107.13411362  45.6926572    3.67673144]\n"
     ]
    }
   ],
   "source": [
    "print(y_pred3[:5])"
   ]
  },
  {
   "cell_type": "markdown",
   "id": "f20a69bc",
   "metadata": {
    "papermill": {
     "duration": 0.014924,
     "end_time": "2023-09-01T12:45:28.736375",
     "exception": false,
     "start_time": "2023-09-01T12:45:28.721451",
     "status": "completed"
    },
    "tags": []
   },
   "source": [
    "**Model Evaluation:**\n",
    "Calculating the Root Mean Squared Error (RMSE) to assess the performance of the model (model3) in predicting VACATION_RATE. A lower RMSE indicates better prediction accuracy."
   ]
  },
  {
   "cell_type": "code",
   "execution_count": 17,
   "id": "e675e691",
   "metadata": {
    "execution": {
     "iopub.execute_input": "2023-09-01T12:45:28.768409Z",
     "iopub.status.busy": "2023-09-01T12:45:28.767684Z",
     "iopub.status.idle": "2023-09-01T12:45:28.774529Z",
     "shell.execute_reply": "2023-09-01T12:45:28.773064Z"
    },
    "papermill": {
     "duration": 0.024812,
     "end_time": "2023-09-01T12:45:28.777056",
     "exception": false,
     "start_time": "2023-09-01T12:45:28.752244",
     "status": "completed"
    },
    "tags": []
   },
   "outputs": [
    {
     "name": "stdout",
     "output_type": "stream",
     "text": [
      "RMSE on validation set: 4.168477747923908\n"
     ]
    }
   ],
   "source": [
    "# Calculate RMSE\n",
    "rmse = mean_squared_error(y_val3, y_pred3, squared=False)\n",
    "print(f'RMSE on validation set: {rmse}')"
   ]
  },
  {
   "cell_type": "markdown",
   "id": "230ccf5a",
   "metadata": {
    "papermill": {
     "duration": 0.014086,
     "end_time": "2023-09-01T12:45:28.805584",
     "exception": false,
     "start_time": "2023-09-01T12:45:28.791498",
     "status": "completed"
    },
    "tags": []
   },
   "source": [
    "**Preparing Test Data:**\n",
    "Preparing the test data by setting the index to match the format of the training data and then using the trained models (model1 and model2) to predict T2M and QV2M for the test data. These predictions are added to the test data, and finally, using model3 to predict VACATION_RATE for the test set."
   ]
  },
  {
   "cell_type": "code",
   "execution_count": 18,
   "id": "6fa8e95b",
   "metadata": {
    "execution": {
     "iopub.execute_input": "2023-09-01T12:45:28.836446Z",
     "iopub.status.busy": "2023-09-01T12:45:28.836013Z",
     "iopub.status.idle": "2023-09-01T12:45:29.378784Z",
     "shell.execute_reply": "2023-09-01T12:45:29.377323Z"
    },
    "papermill": {
     "duration": 0.561969,
     "end_time": "2023-09-01T12:45:29.381781",
     "exception": false,
     "start_time": "2023-09-01T12:45:28.819812",
     "status": "completed"
    },
    "tags": []
   },
   "outputs": [],
   "source": [
    "test_X = test_data\n",
    "test_X = test_X.set_index(['YEAR','NEW_WEEK'])\n",
    "\n",
    "# Use the trained model to predict on the test set\n",
    "test_predictions1 = model1.predict(test_X)\n",
    "test_predictions2 = model2.predict(test_X)"
   ]
  },
  {
   "cell_type": "code",
   "execution_count": 19,
   "id": "924f02d1",
   "metadata": {
    "execution": {
     "iopub.execute_input": "2023-09-01T12:45:29.412949Z",
     "iopub.status.busy": "2023-09-01T12:45:29.412502Z",
     "iopub.status.idle": "2023-09-01T12:45:29.419771Z",
     "shell.execute_reply": "2023-09-01T12:45:29.418245Z"
    },
    "papermill": {
     "duration": 0.025753,
     "end_time": "2023-09-01T12:45:29.422319",
     "exception": false,
     "start_time": "2023-09-01T12:45:29.396566",
     "status": "completed"
    },
    "tags": []
   },
   "outputs": [
    {
     "name": "stdout",
     "output_type": "stream",
     "text": [
      "[25.91071485 25.75024638 24.56178222 23.94261964 24.20541613]\n",
      "[11.91114408 11.9816106  12.31660776 11.85279091 11.94352725]\n"
     ]
    }
   ],
   "source": [
    "print(test_predictions1[:5])\n",
    "print(test_predictions2[:5])"
   ]
  },
  {
   "cell_type": "code",
   "execution_count": 20,
   "id": "9d84f4c6",
   "metadata": {
    "execution": {
     "iopub.execute_input": "2023-09-01T12:45:29.454861Z",
     "iopub.status.busy": "2023-09-01T12:45:29.454444Z",
     "iopub.status.idle": "2023-09-01T12:45:29.461570Z",
     "shell.execute_reply": "2023-09-01T12:45:29.460184Z"
    },
    "papermill": {
     "duration": 0.026618,
     "end_time": "2023-09-01T12:45:29.463894",
     "exception": false,
     "start_time": "2023-09-01T12:45:29.437276",
     "status": "completed"
    },
    "tags": []
   },
   "outputs": [],
   "source": [
    "# Add the predicted QV2M and T2M values to the validation sets\n",
    "test_X['QV2M'] = test_predictions2\n",
    "test_X['T2M'] = test_predictions1"
   ]
  },
  {
   "cell_type": "code",
   "execution_count": 21,
   "id": "6d7473fd",
   "metadata": {
    "execution": {
     "iopub.execute_input": "2023-09-01T12:45:29.496117Z",
     "iopub.status.busy": "2023-09-01T12:45:29.494890Z",
     "iopub.status.idle": "2023-09-01T12:45:29.770203Z",
     "shell.execute_reply": "2023-09-01T12:45:29.768895Z"
    },
    "papermill": {
     "duration": 0.29392,
     "end_time": "2023-09-01T12:45:29.773070",
     "exception": false,
     "start_time": "2023-09-01T12:45:29.479150",
     "status": "completed"
    },
    "tags": []
   },
   "outputs": [],
   "source": [
    "# Use the trained model to predict on the test set\n",
    "test_predictions3 = model3.predict(test_X)"
   ]
  },
  {
   "cell_type": "code",
   "execution_count": 22,
   "id": "c5e8b8fd",
   "metadata": {
    "execution": {
     "iopub.execute_input": "2023-09-01T12:45:29.804392Z",
     "iopub.status.busy": "2023-09-01T12:45:29.803847Z",
     "iopub.status.idle": "2023-09-01T12:45:29.810153Z",
     "shell.execute_reply": "2023-09-01T12:45:29.808916Z"
    },
    "papermill": {
     "duration": 0.024621,
     "end_time": "2023-09-01T12:45:29.812587",
     "exception": false,
     "start_time": "2023-09-01T12:45:29.787966",
     "status": "completed"
    },
    "tags": []
   },
   "outputs": [
    {
     "name": "stdout",
     "output_type": "stream",
     "text": [
      "[1.63271767 1.48324138 0.80963379 6.76888269 4.76972889]\n"
     ]
    }
   ],
   "source": [
    "print(test_predictions3[:5])"
   ]
  },
  {
   "cell_type": "markdown",
   "id": "4f6be639",
   "metadata": {
    "papermill": {
     "duration": 0.013888,
     "end_time": "2023-09-01T12:45:29.841115",
     "exception": false,
     "start_time": "2023-09-01T12:45:29.827227",
     "status": "completed"
    },
    "tags": []
   },
   "source": [
    "**Creating a Submission DataFrame and Saving the Submission CSV:**\n",
    "Creating a DataFrame (submission_df) with the predicted VACATION_RATE values and corresponding IDs for the test data, which is necessary for submission.\n",
    "Finally, saving the submission DataFrame to a CSV file named 'submission.csv,' which can be submitted for evaluation."
   ]
  },
  {
   "cell_type": "code",
   "execution_count": 23,
   "id": "257c8720",
   "metadata": {
    "execution": {
     "iopub.execute_input": "2023-09-01T12:45:29.873524Z",
     "iopub.status.busy": "2023-09-01T12:45:29.873014Z",
     "iopub.status.idle": "2023-09-01T12:45:29.886089Z",
     "shell.execute_reply": "2023-09-01T12:45:29.884815Z"
    },
    "papermill": {
     "duration": 0.031965,
     "end_time": "2023-09-01T12:45:29.888942",
     "exception": false,
     "start_time": "2023-09-01T12:45:29.856977",
     "status": "completed"
    },
    "tags": []
   },
   "outputs": [],
   "source": [
    "# Create a DataFrame for submission\n",
    "submission_df = pd.DataFrame({'ID': test_data['ID'], 'VACATION_RATE': test_predictions3})\n",
    "\n",
    "# Save the submission DataFrame to a CSV file\n",
    "submission_df.to_csv('submission.csv', index=False)"
   ]
  }
 ],
 "kernelspec": {
  "display_name": "Python 3",
  "language": "python",
  "name": "python3"
 },
 "language_info": {
  "codemirror_mode": {
   "name": "ipython",
   "version": 3
  },
  "file_extension": ".py",
  "mimetype": "text/x-python",
  "name": "python",
  "nbconvert_exporter": "python",
  "pygments_lexer": "ipython3",
  "version": "3.6.4"
 },
 "metadata": {
  "kernelspec": {
   "display_name": "Python 3",
   "language": "python",
   "name": "python3"
  },
  "language_info": {
   "codemirror_mode": {
    "name": "ipython",
    "version": 3
   },
   "file_extension": ".py",
   "mimetype": "text/x-python",
   "name": "python",
   "nbconvert_exporter": "python",
   "pygments_lexer": "ipython3",
   "version": "3.10.12"
  },
  "papermill": {
   "default_parameters": {},
   "duration": 57.683218,
   "end_time": "2023-09-01T12:45:31.026942",
   "environment_variables": {},
   "exception": null,
   "input_path": "__notebook__.ipynb",
   "output_path": "__notebook__.ipynb",
   "parameters": {},
   "start_time": "2023-09-01T12:44:33.343724",
   "version": "2.4.0"
  }
 },
 "nbformat": 4,
 "nbformat_minor": 5
}
